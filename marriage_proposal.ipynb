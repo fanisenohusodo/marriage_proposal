{
 "cells": [
  {
   "cell_type": "markdown",
   "metadata": {
    "id": "Q1VQvR4-8Fn9"
   },
   "source": [
    "## Import Library"
   ]
  },
  {
   "cell_type": "code",
   "execution_count": 1,
   "metadata": {
    "executionInfo": {
     "elapsed": 3447,
     "status": "ok",
     "timestamp": 1719924004362,
     "user": {
      "displayName": "Fani Senohusodo",
      "userId": "04677994331336327591"
     },
     "user_tz": -420
    },
    "id": "JR2etZbt8I2R"
   },
   "outputs": [],
   "source": [
    "import numpy as np\n",
    "import pandas as pd\n",
    "import matplotlib.pyplot as plt\n",
    "import seaborn as sns"
   ]
  },
  {
   "cell_type": "markdown",
   "metadata": {
    "id": "l0hVvjPM8epp"
   },
   "source": [
    "## Import Data"
   ]
  },
  {
   "cell_type": "code",
   "execution_count": 2,
   "metadata": {
    "executionInfo": {
     "elapsed": 1769,
     "status": "ok",
     "timestamp": 1719924032245,
     "user": {
      "displayName": "Fani Senohusodo",
      "userId": "04677994331336327591"
     },
     "user_tz": -420
    },
    "id": "UMFZ2XO78jil"
   },
   "outputs": [],
   "source": [
    "df = pd.read_csv(\"marriage_proposal.csv\")"
   ]
  },
  {
   "cell_type": "code",
   "execution_count": 3,
   "metadata": {
    "colab": {
     "base_uri": "https://localhost:8080/",
     "height": 206
    },
    "executionInfo": {
     "elapsed": 40,
     "status": "ok",
     "timestamp": 1719924032245,
     "user": {
      "displayName": "Fani Senohusodo",
      "userId": "04677994331336327591"
     },
     "user_tz": -420
    },
    "id": "0ezDcoPo9A3Z",
    "outputId": "69974d15-b54f-41a5-94ed-e1c70f65275f"
   },
   "outputs": [
    {
     "data": {
      "text/html": [
       "<div>\n",
       "<style scoped>\n",
       "    .dataframe tbody tr th:only-of-type {\n",
       "        vertical-align: middle;\n",
       "    }\n",
       "\n",
       "    .dataframe tbody tr th {\n",
       "        vertical-align: top;\n",
       "    }\n",
       "\n",
       "    .dataframe thead th {\n",
       "        text-align: right;\n",
       "    }\n",
       "</style>\n",
       "<table border=\"1\" class=\"dataframe\">\n",
       "  <thead>\n",
       "    <tr style=\"text-align: right;\">\n",
       "      <th></th>\n",
       "      <th>Height</th>\n",
       "      <th>Age</th>\n",
       "      <th>Income</th>\n",
       "      <th>RomanticGestureScore</th>\n",
       "      <th>CompatibilityScore</th>\n",
       "      <th>CommunicationScore</th>\n",
       "      <th>DistanceKM</th>\n",
       "      <th>Response</th>\n",
       "      <th>AgeCategory</th>\n",
       "    </tr>\n",
       "  </thead>\n",
       "  <tbody>\n",
       "    <tr>\n",
       "      <th>0</th>\n",
       "      <td>157</td>\n",
       "      <td>23</td>\n",
       "      <td>9813</td>\n",
       "      <td>10</td>\n",
       "      <td>4</td>\n",
       "      <td>10</td>\n",
       "      <td>81</td>\n",
       "      <td>1</td>\n",
       "      <td>Young</td>\n",
       "    </tr>\n",
       "    <tr>\n",
       "      <th>1</th>\n",
       "      <td>141</td>\n",
       "      <td>80</td>\n",
       "      <td>9543</td>\n",
       "      <td>0</td>\n",
       "      <td>9</td>\n",
       "      <td>3</td>\n",
       "      <td>14</td>\n",
       "      <td>1</td>\n",
       "      <td>Senior</td>\n",
       "    </tr>\n",
       "    <tr>\n",
       "      <th>2</th>\n",
       "      <td>143</td>\n",
       "      <td>56</td>\n",
       "      <td>43513</td>\n",
       "      <td>4</td>\n",
       "      <td>2</td>\n",
       "      <td>2</td>\n",
       "      <td>55</td>\n",
       "      <td>0</td>\n",
       "      <td>Middle-aged</td>\n",
       "    </tr>\n",
       "    <tr>\n",
       "      <th>3</th>\n",
       "      <td>184</td>\n",
       "      <td>18</td>\n",
       "      <td>26317</td>\n",
       "      <td>2</td>\n",
       "      <td>6</td>\n",
       "      <td>9</td>\n",
       "      <td>47</td>\n",
       "      <td>0</td>\n",
       "      <td>Young</td>\n",
       "    </tr>\n",
       "    <tr>\n",
       "      <th>4</th>\n",
       "      <td>151</td>\n",
       "      <td>31</td>\n",
       "      <td>6757</td>\n",
       "      <td>7</td>\n",
       "      <td>0</td>\n",
       "      <td>8</td>\n",
       "      <td>81</td>\n",
       "      <td>1</td>\n",
       "      <td>Young</td>\n",
       "    </tr>\n",
       "  </tbody>\n",
       "</table>\n",
       "</div>"
      ],
      "text/plain": [
       "   Height  Age  Income  RomanticGestureScore  CompatibilityScore  \\\n",
       "0     157   23    9813                    10                   4   \n",
       "1     141   80    9543                     0                   9   \n",
       "2     143   56   43513                     4                   2   \n",
       "3     184   18   26317                     2                   6   \n",
       "4     151   31    6757                     7                   0   \n",
       "\n",
       "   CommunicationScore  DistanceKM  Response  AgeCategory  \n",
       "0                  10          81         1        Young  \n",
       "1                   3          14         1       Senior  \n",
       "2                   2          55         0  Middle-aged  \n",
       "3                   9          47         0        Young  \n",
       "4                   8          81         1        Young  "
      ]
     },
     "execution_count": 3,
     "metadata": {},
     "output_type": "execute_result"
    }
   ],
   "source": [
    "df.head()"
   ]
  },
  {
   "cell_type": "markdown",
   "metadata": {
    "id": "s96w5RjgwC5d"
   },
   "source": [
    "## Check Missing Value"
   ]
  },
  {
   "cell_type": "code",
   "execution_count": 4,
   "metadata": {
    "colab": {
     "base_uri": "https://localhost:8080/"
    },
    "executionInfo": {
     "elapsed": 35,
     "status": "ok",
     "timestamp": 1719924032245,
     "user": {
      "displayName": "Fani Senohusodo",
      "userId": "04677994331336327591"
     },
     "user_tz": -420
    },
    "id": "Lt8wHh2QwgGT",
    "outputId": "02c64848-673f-4fa6-c542-5e5bcf7e0782"
   },
   "outputs": [
    {
     "name": "stdout",
     "output_type": "stream",
     "text": [
      "<class 'pandas.core.frame.DataFrame'>\n",
      "RangeIndex: 10000 entries, 0 to 9999\n",
      "Data columns (total 9 columns):\n",
      " #   Column                Non-Null Count  Dtype \n",
      "---  ------                --------------  ----- \n",
      " 0   Height                10000 non-null  int64 \n",
      " 1   Age                   10000 non-null  int64 \n",
      " 2   Income                10000 non-null  int64 \n",
      " 3   RomanticGestureScore  10000 non-null  int64 \n",
      " 4   CompatibilityScore    10000 non-null  int64 \n",
      " 5   CommunicationScore    10000 non-null  int64 \n",
      " 6   DistanceKM            10000 non-null  int64 \n",
      " 7   Response              10000 non-null  int64 \n",
      " 8   AgeCategory           10000 non-null  object\n",
      "dtypes: int64(8), object(1)\n",
      "memory usage: 703.3+ KB\n"
     ]
    }
   ],
   "source": [
    "df.info()"
   ]
  },
  {
   "cell_type": "code",
   "execution_count": 5,
   "metadata": {
    "colab": {
     "base_uri": "https://localhost:8080/"
    },
    "executionInfo": {
     "elapsed": 31,
     "status": "ok",
     "timestamp": 1719924032246,
     "user": {
      "displayName": "Fani Senohusodo",
      "userId": "04677994331336327591"
     },
     "user_tz": -420
    },
    "id": "fFJ3jykmv4Xl",
    "outputId": "6d603af2-85d4-4448-8c70-0867ccfb81d4"
   },
   "outputs": [
    {
     "data": {
      "text/plain": [
       "Height                  0\n",
       "Age                     0\n",
       "Income                  0\n",
       "RomanticGestureScore    0\n",
       "CompatibilityScore      0\n",
       "CommunicationScore      0\n",
       "DistanceKM              0\n",
       "Response                0\n",
       "AgeCategory             0\n",
       "dtype: int64"
      ]
     },
     "execution_count": 5,
     "metadata": {},
     "output_type": "execute_result"
    }
   ],
   "source": [
    "df.isna().sum()"
   ]
  },
  {
   "cell_type": "markdown",
   "metadata": {
    "id": "MVo73rw2wNCA"
   },
   "source": [
    "## Check Duplicated Data"
   ]
  },
  {
   "cell_type": "code",
   "execution_count": 6,
   "metadata": {
    "colab": {
     "base_uri": "https://localhost:8080/"
    },
    "executionInfo": {
     "elapsed": 28,
     "status": "ok",
     "timestamp": 1719924032246,
     "user": {
      "displayName": "Fani Senohusodo",
      "userId": "04677994331336327591"
     },
     "user_tz": -420
    },
    "id": "RA_uoV22wK5n",
    "outputId": "b78e0df1-e87a-4472-ea16-b39a1be94126"
   },
   "outputs": [
    {
     "data": {
      "text/plain": [
       "0"
      ]
     },
     "execution_count": 6,
     "metadata": {},
     "output_type": "execute_result"
    }
   ],
   "source": [
    "df.duplicated().sum()"
   ]
  },
  {
   "cell_type": "code",
   "execution_count": 7,
   "metadata": {
    "colab": {
     "base_uri": "https://localhost:8080/"
    },
    "executionInfo": {
     "elapsed": 25,
     "status": "ok",
     "timestamp": 1719924032246,
     "user": {
      "displayName": "Fani Senohusodo",
      "userId": "04677994331336327591"
     },
     "user_tz": -420
    },
    "id": "MsYSgsX7wch8",
    "outputId": "4a8eea0d-6ae8-4cec-a853-9fa4bac18dbe"
   },
   "outputs": [
    {
     "data": {
      "text/plain": [
       "array(['Young', 'Senior', 'Middle-aged'], dtype=object)"
      ]
     },
     "execution_count": 7,
     "metadata": {},
     "output_type": "execute_result"
    }
   ],
   "source": [
    "df['AgeCategory'].unique()"
   ]
  },
  {
   "cell_type": "markdown",
   "metadata": {
    "id": "mXnLiD7j80n7"
   },
   "source": [
    "## Melakukan statistik deskriptif"
   ]
  },
  {
   "cell_type": "markdown",
   "metadata": {
    "id": "agpDiMoNvtRm"
   },
   "source": [
    "### Variabel Biner Response"
   ]
  },
  {
   "cell_type": "code",
   "execution_count": 8,
   "metadata": {
    "colab": {
     "base_uri": "https://localhost:8080/"
    },
    "executionInfo": {
     "elapsed": 677,
     "status": "ok",
     "timestamp": 1719924032901,
     "user": {
      "displayName": "Fani Senohusodo",
      "userId": "04677994331336327591"
     },
     "user_tz": -420
    },
    "id": "j8gRp1fDv0ut",
    "outputId": "75cb63e6-63fe-4f28-dc38-9e95fa2105d1"
   },
   "outputs": [
    {
     "data": {
      "text/plain": [
       "Response\n",
       "1    7700\n",
       "0    2300\n",
       "Name: count, dtype: int64"
      ]
     },
     "execution_count": 8,
     "metadata": {},
     "output_type": "execute_result"
    }
   ],
   "source": [
    "response_value_counts = df['Response'].value_counts()\n",
    "response_value_counts"
   ]
  },
  {
   "cell_type": "code",
   "execution_count": 9,
   "metadata": {
    "colab": {
     "base_uri": "https://localhost:8080/"
    },
    "executionInfo": {
     "elapsed": 24,
     "status": "ok",
     "timestamp": 1719924032902,
     "user": {
      "displayName": "Fani Senohusodo",
      "userId": "04677994331336327591"
     },
     "user_tz": -420
    },
    "id": "LNoBz1OVxmV0",
    "outputId": "5f4b8377-c917-4a5b-a301-de26dd1fd3b0"
   },
   "outputs": [
    {
     "data": {
      "text/plain": [
       "Response\n",
       "1    77.0\n",
       "0    23.0\n",
       "Name: count, dtype: float64"
      ]
     },
     "execution_count": 9,
     "metadata": {},
     "output_type": "execute_result"
    }
   ],
   "source": [
    "response_persentage = (response_value_counts / response_value_counts.sum()) * 100\n",
    "response_persentage"
   ]
  },
  {
   "cell_type": "markdown",
   "metadata": {
    "id": "iYsjNQ6v7ni8"
   },
   "source": [
    "### 1. Atribut Height"
   ]
  },
  {
   "cell_type": "code",
   "execution_count": 10,
   "metadata": {
    "colab": {
     "base_uri": "https://localhost:8080/",
     "height": 466
    },
    "executionInfo": {
     "elapsed": 22,
     "status": "ok",
     "timestamp": 1719924032903,
     "user": {
      "displayName": "Fani Senohusodo",
      "userId": "04677994331336327591"
     },
     "user_tz": -420
    },
    "id": "pTbFnwJG6vKd",
    "outputId": "c79d5567-1b85-47ce-e065-923b7ce097ec"
   },
   "outputs": [
    {
     "data": {
      "text/plain": [
       "<Axes: xlabel='Height', ylabel='Count'>"
      ]
     },
     "execution_count": 10,
     "metadata": {},
     "output_type": "execute_result"
    },
    {
     "data": {
      "image/png": "[encoded data removed]",
      "text/plain": [
       "<Figure size 640x480 with 1 Axes>"
      ]
     },
     "metadata": {},
     "output_type": "display_data"
    }
   ],
   "source": [
    "sns.histplot(data=df,x='Height')"
   ]
  },
  {
   "cell_type": "code",
   "execution_count": 11,
   "metadata": {
    "colab": {
     "base_uri": "https://localhost:8080/"
    },
    "executionInfo": {
     "elapsed": 17,
     "status": "ok",
     "timestamp": 1719924032903,
     "user": {
      "displayName": "Fani Senohusodo",
      "userId": "04677994331336327591"
     },
     "user_tz": -420
    },
    "id": "YK1AoSfD84oK",
    "outputId": "b1ec2257-2af5-4f39-f227-705459c08720"
   },
   "outputs": [
    {
     "data": {
      "text/plain": [
       "count    10000.00000\n",
       "mean       169.82330\n",
       "std         17.63324\n",
       "min        140.00000\n",
       "25%        155.00000\n",
       "50%        170.00000\n",
       "75%        185.00000\n",
       "max        200.00000\n",
       "Name: Height, dtype: float64"
      ]
     },
     "execution_count": 11,
     "metadata": {},
     "output_type": "execute_result"
    }
   ],
   "source": [
    "df[\"Height\"].describe()"
   ]
  },
  {
   "cell_type": "code",
   "execution_count": 12,
   "metadata": {
    "colab": {
     "base_uri": "https://localhost:8080/"
    },
    "executionInfo": {
     "elapsed": 16,
     "status": "ok",
     "timestamp": 1719924032904,
     "user": {
      "displayName": "Fani Senohusodo",
      "userId": "04677994331336327591"
     },
     "user_tz": -420
    },
    "id": "cdvHX7Ag9keS",
    "outputId": "d3f73c53-15d5-43a3-c8bc-582e62ebbd9b"
   },
   "outputs": [
    {
     "data": {
      "text/plain": [
       "Response\n",
       "0    170.003913\n",
       "1    169.769351\n",
       "Name: Height, dtype: float64"
      ]
     },
     "execution_count": 12,
     "metadata": {},
     "output_type": "execute_result"
    }
   ],
   "source": [
    "df[\"Height\"].groupby(df['Response']).mean()"
   ]
  },
  {
   "cell_type": "code",
   "execution_count": 13,
   "metadata": {
    "colab": {
     "base_uri": "https://localhost:8080/",
     "height": 472
    },
    "executionInfo": {
     "elapsed": 421,
     "status": "ok",
     "timestamp": 1719924033312,
     "user": {
      "displayName": "Fani Senohusodo",
      "userId": "04677994331336327591"
     },
     "user_tz": -420
    },
    "id": "1upP1bK99zJ4",
    "outputId": "9adcc7e5-238f-4071-9d17-e99c1b1dc238"
   },
   "outputs": [
    {
     "data": {
      "image/png": "[encoded data removed]",
      "text/plain": [
       "<Figure size 640x480 with 1 Axes>"
      ]
     },
     "metadata": {},
     "output_type": "display_data"
    }
   ],
   "source": [
    "sns.boxplot(x='Height', hue='Response', data=df)\n",
    "plt.title('Boxplot of Height by Response')\n",
    "plt.xlabel('Height')\n",
    "plt.ylabel('Response')\n",
    "plt.show()"
   ]
  },
  {
   "cell_type": "code",
   "execution_count": 14,
   "metadata": {
    "colab": {
     "base_uri": "https://localhost:8080/",
     "height": 616
    },
    "executionInfo": {
     "elapsed": 525,
     "status": "ok",
     "timestamp": 1719924033823,
     "user": {
      "displayName": "Fani Senohusodo",
      "userId": "04677994331336327591"
     },
     "user_tz": -420
    },
    "id": "xUccLTcXEDN_",
    "outputId": "60eba86e-6441-46b2-90d2-2762d766a78b"
   },
   "outputs": [
    {
     "name": "stdout",
     "output_type": "stream",
     "text": [
      "Varians: 310.9311702270222\n",
      "Skewness: 0.0031372192823347182\n",
      "Kurtosis: -1.205198617104249\n"
     ]
    },
    {
     "data": {
      "image/png": "[encoded data removed]",
      "text/plain": [
       "<Figure size 1000x600 with 1 Axes>"
      ]
     },
     "metadata": {},
     "output_type": "display_data"
    }
   ],
   "source": [
    "variance = df['Height'].var()\n",
    "skewness = df['Height'].skew()\n",
    "kurtosis = df['Height'].kurt()\n",
    "\n",
    "print(\"Varians:\", variance)\n",
    "print(\"Skewness:\", skewness)\n",
    "print(\"Kurtosis:\", kurtosis)\n",
    "\n",
    "# Visualisasi data\n",
    "plt.figure(figsize=(10, 6))\n",
    "sns.histplot(df['Height'], bins=30, kde=True)\n",
    "plt.title('Histogram Height')\n",
    "plt.show()"
   ]
  },
  {
   "cell_type": "markdown",
   "metadata": {
    "id": "t62UDXr5KG-7"
   },
   "source": [
    "### 2. Atribut Age"
   ]
  },
  {
   "cell_type": "code",
   "execution_count": 15,
   "metadata": {
    "colab": {
     "base_uri": "https://localhost:8080/",
     "height": 466
    },
    "executionInfo": {
     "elapsed": 51,
     "status": "ok",
     "timestamp": 1719924033823,
     "user": {
      "displayName": "Fani Senohusodo",
      "userId": "04677994331336327591"
     },
     "user_tz": -420
    },
    "id": "IZjcVe7MKLkj",
    "outputId": "56265293-cb4f-4d34-fb34-5aae29a952ca"
   },
   "outputs": [
    {
     "data": {
      "text/plain": [
       "<Axes: xlabel='Age', ylabel='Count'>"
      ]
     },
     "execution_count": 15,
     "metadata": {},
     "output_type": "execute_result"
    },
    {
     "data": {
      "image/png": "[encoded data removed]",
      "text/plain": [
       "<Figure size 640x480 with 1 Axes>"
      ]
     },
     "metadata": {},
     "output_type": "display_data"
    }
   ],
   "source": [
    "sns.histplot(data=df,x='Age')"
   ]
  },
  {
   "cell_type": "code",
   "execution_count": 16,
   "metadata": {
    "colab": {
     "base_uri": "https://localhost:8080/"
    },
    "executionInfo": {
     "elapsed": 47,
     "status": "ok",
     "timestamp": 1719924033824,
     "user": {
      "displayName": "Fani Senohusodo",
      "userId": "04677994331336327591"
     },
     "user_tz": -420
    },
    "id": "4SiO0ZtPKLWi",
    "outputId": "bdd725fc-b593-43eb-b516-a9432293b680"
   },
   "outputs": [
    {
     "data": {
      "text/plain": [
       "count    10000.000000\n",
       "mean        53.888100\n",
       "std         21.149683\n",
       "min         18.000000\n",
       "25%         35.000000\n",
       "50%         54.000000\n",
       "75%         72.000000\n",
       "max         90.000000\n",
       "Name: Age, dtype: float64"
      ]
     },
     "execution_count": 16,
     "metadata": {},
     "output_type": "execute_result"
    }
   ],
   "source": [
    "df[\"Age\"].describe()"
   ]
  },
  {
   "cell_type": "code",
   "execution_count": 17,
   "metadata": {
    "colab": {
     "base_uri": "https://localhost:8080/"
    },
    "executionInfo": {
     "elapsed": 44,
     "status": "ok",
     "timestamp": 1719924033824,
     "user": {
      "displayName": "Fani Senohusodo",
      "userId": "04677994331336327591"
     },
     "user_tz": -420
    },
    "id": "9J2uNZAQKLDR",
    "outputId": "cbb3319a-869b-46bb-a4ef-fde3f241049f"
   },
   "outputs": [
    {
     "data": {
      "text/plain": [
       "Response\n",
       "0    53.883478\n",
       "1    53.889481\n",
       "Name: Age, dtype: float64"
      ]
     },
     "execution_count": 17,
     "metadata": {},
     "output_type": "execute_result"
    }
   ],
   "source": [
    "df[\"Age\"].groupby(df['Response']).mean()"
   ]
  },
  {
   "cell_type": "code",
   "execution_count": 18,
   "metadata": {
    "colab": {
     "base_uri": "https://localhost:8080/",
     "height": 472
    },
    "executionInfo": {
     "elapsed": 456,
     "status": "ok",
     "timestamp": 1719924034239,
     "user": {
      "displayName": "Fani Senohusodo",
      "userId": "04677994331336327591"
     },
     "user_tz": -420
    },
    "id": "4ZwxjzYOKVCc",
    "outputId": "c9bc1983-a66a-49f2-88f4-a6c2dcd09e7d"
   },
   "outputs": [
    {
     "data": {
      "image/png": "[encoded data removed]",
      "text/plain": [
       "<Figure size 640x480 with 1 Axes>"
      ]
     },
     "metadata": {},
     "output_type": "display_data"
    }
   ],
   "source": [
    "sns.boxplot(x='Age', hue='Response', data=df)\n",
    "plt.title('Boxplot of Age by Response')\n",
    "plt.xlabel('Age')\n",
    "plt.ylabel('Response')\n",
    "plt.show()"
   ]
  },
  {
   "cell_type": "code",
   "execution_count": 19,
   "metadata": {
    "colab": {
     "base_uri": "https://localhost:8080/",
     "height": 616
    },
    "executionInfo": {
     "elapsed": 854,
     "status": "ok",
     "timestamp": 1719924035078,
     "user": {
      "displayName": "Fani Senohusodo",
      "userId": "04677994331336327591"
     },
     "user_tz": -420
    },
    "id": "tSGgnWGOKftL",
    "outputId": "ef9ddaa4-c830-4f38-cfad-aca4af424ec5"
   },
   "outputs": [
    {
     "name": "stdout",
     "output_type": "stream",
     "text": [
      "Varians: 447.30910930093086\n",
      "Skewness: 0.0054815078369442145\n",
      "Kurtosis: -1.2170822458125117\n"
     ]
    },
    {
     "data": {
      "image/png": "[encoded data removed]",
      "text/plain": [
       "<Figure size 1000x600 with 1 Axes>"
      ]
     },
     "metadata": {},
     "output_type": "display_data"
    }
   ],
   "source": [
    "variance = df['Age'].var()\n",
    "skewness = df['Age'].skew()\n",
    "kurtosis = df['Age'].kurt()\n",
    "\n",
    "print(\"Varians:\", variance)\n",
    "print(\"Skewness:\", skewness)\n",
    "print(\"Kurtosis:\", kurtosis)\n",
    "\n",
    "# Visualisasi data\n",
    "plt.figure(figsize=(10, 6))\n",
    "sns.histplot(df['Age'], bins=30, kde=True)\n",
    "plt.title('Histogram Age')\n",
    "plt.show()"
   ]
  },
  {
   "cell_type": "markdown",
   "metadata": {
    "id": "kwXGXYEVNxH6"
   },
   "source": [
    "### 3. Atribut Income"
   ]
  },
  {
   "cell_type": "code",
   "execution_count": 20,
   "metadata": {
    "colab": {
     "base_uri": "https://localhost:8080/",
     "height": 466
    },
    "executionInfo": {
     "elapsed": 541,
     "status": "ok",
     "timestamp": 1719924035602,
     "user": {
      "displayName": "Fani Senohusodo",
      "userId": "04677994331336327591"
     },
     "user_tz": -420
    },
    "id": "z9YtBiwZN05D",
    "outputId": "6359c60e-5a84-44e4-d217-7b2beacd9d18"
   },
   "outputs": [
    {
     "data": {
      "text/plain": [
       "<Axes: xlabel='Income', ylabel='Count'>"
      ]
     },
     "execution_count": 20,
     "metadata": {},
     "output_type": "execute_result"
    },
    {
     "data": {
      "image/png": "[encoded data removed]",
      "text/plain": [
       "<Figure size 640x480 with 1 Axes>"
      ]
     },
     "metadata": {},
     "output_type": "display_data"
    }
   ],
   "source": [
    "sns.histplot(data=df,x='Income')"
   ]
  },
  {
   "cell_type": "code",
   "execution_count": 21,
   "metadata": {
    "colab": {
     "base_uri": "https://localhost:8080/"
    },
    "executionInfo": {
     "elapsed": 62,
     "status": "ok",
     "timestamp": 1719924035603,
     "user": {
      "displayName": "Fani Senohusodo",
      "userId": "04677994331336327591"
     },
     "user_tz": -420
    },
    "id": "f4nhH2vHN7jW",
    "outputId": "508a9e9d-74ac-43af-dd8f-0a7acfe1f942"
   },
   "outputs": [
    {
     "data": {
      "text/plain": [
       "count    10000.000000\n",
       "mean     27253.685600\n",
       "std      13033.176946\n",
       "min       5003.000000\n",
       "25%      16089.500000\n",
       "50%      27109.000000\n",
       "75%      38434.750000\n",
       "max      50000.000000\n",
       "Name: Income, dtype: float64"
      ]
     },
     "execution_count": 21,
     "metadata": {},
     "output_type": "execute_result"
    }
   ],
   "source": [
    "df[\"Income\"].describe()"
   ]
  },
  {
   "cell_type": "code",
   "execution_count": 22,
   "metadata": {
    "colab": {
     "base_uri": "https://localhost:8080/"
    },
    "executionInfo": {
     "elapsed": 59,
     "status": "ok",
     "timestamp": 1719924035603,
     "user": {
      "displayName": "Fani Senohusodo",
      "userId": "04677994331336327591"
     },
     "user_tz": -420
    },
    "id": "f6tuyM7dN_2e",
    "outputId": "ba3e75e1-9e39-4f05-a211-40698ef8cd6c"
   },
   "outputs": [
    {
     "data": {
      "text/plain": [
       "Response\n",
       "0    27431.698261\n",
       "1    27200.512987\n",
       "Name: Income, dtype: float64"
      ]
     },
     "execution_count": 22,
     "metadata": {},
     "output_type": "execute_result"
    }
   ],
   "source": [
    "df[\"Income\"].groupby(df['Response']).mean()"
   ]
  },
  {
   "cell_type": "code",
   "execution_count": 23,
   "metadata": {
    "colab": {
     "base_uri": "https://localhost:8080/",
     "height": 472
    },
    "executionInfo": {
     "elapsed": 545,
     "status": "ok",
     "timestamp": 1719924036092,
     "user": {
      "displayName": "Fani Senohusodo",
      "userId": "04677994331336327591"
     },
     "user_tz": -420
    },
    "id": "CI6wyakMOCXe",
    "outputId": "3feb1a92-2ca6-4e92-8944-7b064de673cb"
   },
   "outputs": [
    {
     "data": {
      "image/png": "[encoded data removed]",
      "text/plain": [
       "<Figure size 640x480 with 1 Axes>"
      ]
     },
     "metadata": {},
     "output_type": "display_data"
    }
   ],
   "source": [
    "sns.boxplot(x='Income', hue='Response', data=df)\n",
    "plt.title('Boxplot of Income by Response')\n",
    "plt.xlabel('Income')\n",
    "plt.ylabel('Response')\n",
    "plt.show()"
   ]
  },
  {
   "cell_type": "code",
   "execution_count": 24,
   "metadata": {
    "colab": {
     "base_uri": "https://localhost:8080/",
     "height": 616
    },
    "executionInfo": {
     "elapsed": 494,
     "status": "ok",
     "timestamp": 1719924036568,
     "user": {
      "displayName": "Fani Senohusodo",
      "userId": "04677994331336327591"
     },
     "user_tz": -420
    },
    "id": "NVsF58-WOMtK",
    "outputId": "f4638ae1-a5d7-44f5-9e26-dc1b51bbec12"
   },
   "outputs": [
    {
     "name": "stdout",
     "output_type": "stream",
     "text": [
      "Varians: 169863701.31588447\n",
      "Skewness: 0.025295694598418385\n",
      "Kurtosis: -1.1880477845147082\n"
     ]
    },
    {
     "data": {
      "image/png": "[encoded data removed]",
      "text/plain": [
       "<Figure size 1000x600 with 1 Axes>"
      ]
     },
     "metadata": {},
     "output_type": "display_data"
    }
   ],
   "source": [
    "variance = df['Income'].var()\n",
    "skewness = df['Income'].skew()\n",
    "kurtosis = df['Income'].kurt()\n",
    "\n",
    "print(\"Varians:\", variance)\n",
    "print(\"Skewness:\", skewness)\n",
    "print(\"Kurtosis:\", kurtosis)\n",
    "\n",
    "# Visualisasi data\n",
    "plt.figure(figsize=(10, 6))\n",
    "sns.histplot(df['Income'], bins=30, kde=True)\n",
    "plt.title('Histogram Income')\n",
    "plt.show()"
   ]
  },
  {
   "cell_type": "markdown",
   "metadata": {
    "id": "sFnTsWIvTG2K"
   },
   "source": [
    "### 4. Atribut RomanticGestureScore"
   ]
  },
  {
   "cell_type": "code",
   "execution_count": 25,
   "metadata": {
    "colab": {
     "base_uri": "https://localhost:8080/",
     "height": 472
    },
    "executionInfo": {
     "elapsed": 932,
     "status": "ok",
     "timestamp": 1719924037480,
     "user": {
      "displayName": "Fani Senohusodo",
      "userId": "04677994331336327591"
     },
     "user_tz": -420
    },
    "id": "m_K_9YvMS_Ue",
    "outputId": "a75e15b9-c803-41a1-9736-3f6e7ce79829"
   },
   "outputs": [
    {
     "data": {
      "image/png": "[encoded data removed]",
      "text/plain": [
       "<Figure size 640x480 with 1 Axes>"
      ]
     },
     "metadata": {},
     "output_type": "display_data"
    }
   ],
   "source": [
    "sns.boxplot(x='RomanticGestureScore', hue='Response', data=df)\n",
    "plt.title('Boxplot of RomanticGestureScore by Response')\n",
    "plt.xlabel('RomanticGestureScore')\n",
    "plt.ylabel('Response')\n",
    "plt.show()"
   ]
  },
  {
   "cell_type": "code",
   "execution_count": 26,
   "metadata": {
    "colab": {
     "base_uri": "https://localhost:8080/",
     "height": 143
    },
    "executionInfo": {
     "elapsed": 87,
     "status": "ok",
     "timestamp": 1719924037481,
     "user": {
      "displayName": "Fani Senohusodo",
      "userId": "04677994331336327591"
     },
     "user_tz": -420
    },
    "id": "3Bw1NtPzUh3a",
    "outputId": "f794ba58-1109-400a-9526-1615f4459bfb"
   },
   "outputs": [
    {
     "data": {
      "text/html": [
       "<div>\n",
       "<style scoped>\n",
       "    .dataframe tbody tr th:only-of-type {\n",
       "        vertical-align: middle;\n",
       "    }\n",
       "\n",
       "    .dataframe tbody tr th {\n",
       "        vertical-align: top;\n",
       "    }\n",
       "\n",
       "    .dataframe thead th {\n",
       "        text-align: right;\n",
       "    }\n",
       "</style>\n",
       "<table border=\"1\" class=\"dataframe\">\n",
       "  <thead>\n",
       "    <tr style=\"text-align: right;\">\n",
       "      <th>RomanticGestureScore</th>\n",
       "      <th>0</th>\n",
       "      <th>1</th>\n",
       "      <th>2</th>\n",
       "      <th>3</th>\n",
       "      <th>4</th>\n",
       "      <th>5</th>\n",
       "      <th>6</th>\n",
       "      <th>7</th>\n",
       "      <th>8</th>\n",
       "      <th>9</th>\n",
       "      <th>10</th>\n",
       "    </tr>\n",
       "    <tr>\n",
       "      <th>Response</th>\n",
       "      <th></th>\n",
       "      <th></th>\n",
       "      <th></th>\n",
       "      <th></th>\n",
       "      <th></th>\n",
       "      <th></th>\n",
       "      <th></th>\n",
       "      <th></th>\n",
       "      <th></th>\n",
       "      <th></th>\n",
       "      <th></th>\n",
       "    </tr>\n",
       "  </thead>\n",
       "  <tbody>\n",
       "    <tr>\n",
       "      <th>0</th>\n",
       "      <td>395</td>\n",
       "      <td>398</td>\n",
       "      <td>292</td>\n",
       "      <td>288</td>\n",
       "      <td>218</td>\n",
       "      <td>201</td>\n",
       "      <td>158</td>\n",
       "      <td>115</td>\n",
       "      <td>114</td>\n",
       "      <td>68</td>\n",
       "      <td>53</td>\n",
       "    </tr>\n",
       "    <tr>\n",
       "      <th>1</th>\n",
       "      <td>525</td>\n",
       "      <td>542</td>\n",
       "      <td>556</td>\n",
       "      <td>622</td>\n",
       "      <td>686</td>\n",
       "      <td>745</td>\n",
       "      <td>765</td>\n",
       "      <td>762</td>\n",
       "      <td>803</td>\n",
       "      <td>801</td>\n",
       "      <td>893</td>\n",
       "    </tr>\n",
       "  </tbody>\n",
       "</table>\n",
       "</div>"
      ],
      "text/plain": [
       "RomanticGestureScore   0    1    2    3    4    5    6    7    8    9    10\n",
       "Response                                                                   \n",
       "0                     395  398  292  288  218  201  158  115  114   68   53\n",
       "1                     525  542  556  622  686  745  765  762  803  801  893"
      ]
     },
     "execution_count": 26,
     "metadata": {},
     "output_type": "execute_result"
    }
   ],
   "source": [
    "romanticgesture_byresponse = pd.crosstab(df['Response'], df['RomanticGestureScore'])\n",
    "romanticgesture_byresponse"
   ]
  },
  {
   "cell_type": "markdown",
   "metadata": {
    "id": "7YYFH19GGgJL"
   },
   "source": [
    "### 5.Atribut CompatibilityScore"
   ]
  },
  {
   "cell_type": "code",
   "execution_count": 27,
   "metadata": {
    "colab": {
     "base_uri": "https://localhost:8080/",
     "height": 472
    },
    "executionInfo": {
     "elapsed": 488,
     "status": "ok",
     "timestamp": 1719924037886,
     "user": {
      "displayName": "Fani Senohusodo",
      "userId": "04677994331336327591"
     },
     "user_tz": -420
    },
    "id": "fOQV1oKxGqDG",
    "outputId": "7f82d83f-763a-4acf-d611-10095ee5aa8c"
   },
   "outputs": [
    {
     "data": {
      "image/png": "[encoded data removed]",
      "text/plain": [
       "<Figure size 640x480 with 1 Axes>"
      ]
     },
     "metadata": {},
     "output_type": "display_data"
    }
   ],
   "source": [
    "sns.boxplot(x='CompatibilityScore', hue='Response', data=df)\n",
    "plt.title('Boxplot of CompatibilityScore by Response')\n",
    "plt.xlabel('CompatibilityScore')\n",
    "plt.ylabel('Response')\n",
    "plt.show()"
   ]
  },
  {
   "cell_type": "code",
   "execution_count": 28,
   "metadata": {
    "colab": {
     "base_uri": "https://localhost:8080/",
     "height": 143
    },
    "executionInfo": {
     "elapsed": 36,
     "status": "ok",
     "timestamp": 1719924037887,
     "user": {
      "displayName": "Fani Senohusodo",
      "userId": "04677994331336327591"
     },
     "user_tz": -420
    },
    "id": "Kl5OrA4cG9vy",
    "outputId": "40aa1bc5-aee9-4c0f-9681-8e338eaac161"
   },
   "outputs": [
    {
     "data": {
      "text/html": [
       "<div>\n",
       "<style scoped>\n",
       "    .dataframe tbody tr th:only-of-type {\n",
       "        vertical-align: middle;\n",
       "    }\n",
       "\n",
       "    .dataframe tbody tr th {\n",
       "        vertical-align: top;\n",
       "    }\n",
       "\n",
       "    .dataframe thead th {\n",
       "        text-align: right;\n",
       "    }\n",
       "</style>\n",
       "<table border=\"1\" class=\"dataframe\">\n",
       "  <thead>\n",
       "    <tr style=\"text-align: right;\">\n",
       "      <th>CompatibilityScore</th>\n",
       "      <th>0</th>\n",
       "      <th>1</th>\n",
       "      <th>2</th>\n",
       "      <th>3</th>\n",
       "      <th>4</th>\n",
       "      <th>5</th>\n",
       "      <th>6</th>\n",
       "      <th>7</th>\n",
       "      <th>8</th>\n",
       "      <th>9</th>\n",
       "      <th>10</th>\n",
       "    </tr>\n",
       "    <tr>\n",
       "      <th>Response</th>\n",
       "      <th></th>\n",
       "      <th></th>\n",
       "      <th></th>\n",
       "      <th></th>\n",
       "      <th></th>\n",
       "      <th></th>\n",
       "      <th></th>\n",
       "      <th></th>\n",
       "      <th></th>\n",
       "      <th></th>\n",
       "      <th></th>\n",
       "    </tr>\n",
       "  </thead>\n",
       "  <tbody>\n",
       "    <tr>\n",
       "      <th>0</th>\n",
       "      <td>399</td>\n",
       "      <td>384</td>\n",
       "      <td>315</td>\n",
       "      <td>314</td>\n",
       "      <td>255</td>\n",
       "      <td>195</td>\n",
       "      <td>133</td>\n",
       "      <td>108</td>\n",
       "      <td>97</td>\n",
       "      <td>66</td>\n",
       "      <td>34</td>\n",
       "    </tr>\n",
       "    <tr>\n",
       "      <th>1</th>\n",
       "      <td>502</td>\n",
       "      <td>525</td>\n",
       "      <td>584</td>\n",
       "      <td>632</td>\n",
       "      <td>653</td>\n",
       "      <td>719</td>\n",
       "      <td>738</td>\n",
       "      <td>769</td>\n",
       "      <td>837</td>\n",
       "      <td>866</td>\n",
       "      <td>875</td>\n",
       "    </tr>\n",
       "  </tbody>\n",
       "</table>\n",
       "</div>"
      ],
      "text/plain": [
       "CompatibilityScore   0    1    2    3    4    5    6    7    8    9    10\n",
       "Response                                                                 \n",
       "0                   399  384  315  314  255  195  133  108   97   66   34\n",
       "1                   502  525  584  632  653  719  738  769  837  866  875"
      ]
     },
     "execution_count": 28,
     "metadata": {},
     "output_type": "execute_result"
    }
   ],
   "source": [
    "compatibility_byresponse = pd.crosstab(df['Response'], df['CompatibilityScore'])\n",
    "compatibility_byresponse"
   ]
  },
  {
   "cell_type": "markdown",
   "metadata": {
    "id": "msqU1qRRx5MA"
   },
   "source": [
    "### 6. Atribut Communication Score"
   ]
  },
  {
   "cell_type": "code",
   "execution_count": 29,
   "metadata": {
    "colab": {
     "base_uri": "https://localhost:8080/",
     "height": 472
    },
    "executionInfo": {
     "elapsed": 567,
     "status": "ok",
     "timestamp": 1719924038420,
     "user": {
      "displayName": "Fani Senohusodo",
      "userId": "04677994331336327591"
     },
     "user_tz": -420
    },
    "id": "cijE-pvCx_tG",
    "outputId": "0afeac31-b08b-4f19-8f36-21a091b34d18"
   },
   "outputs": [
    {
     "data": {
      "image/png": "[encoded data removed]",
      "text/plain": [
       "<Figure size 640x480 with 1 Axes>"
      ]
     },
     "metadata": {},
     "output_type": "display_data"
    }
   ],
   "source": [
    "sns.boxplot(x='CommunicationScore', hue='Response', data=df)\n",
    "plt.title('Boxplot of CommunicationScore by Response')\n",
    "plt.xlabel('CommunicationScore')\n",
    "plt.ylabel('Response')\n",
    "plt.show()"
   ]
  },
  {
   "cell_type": "code",
   "execution_count": 30,
   "metadata": {
    "colab": {
     "base_uri": "https://localhost:8080/",
     "height": 143
    },
    "executionInfo": {
     "elapsed": 63,
     "status": "ok",
     "timestamp": 1719924038420,
     "user": {
      "displayName": "Fani Senohusodo",
      "userId": "04677994331336327591"
     },
     "user_tz": -420
    },
    "id": "blv3p5zAyPmr",
    "outputId": "117c42f0-3df5-4e6d-c4c2-5ff5f142d23e"
   },
   "outputs": [
    {
     "data": {
      "text/html": [
       "<div>\n",
       "<style scoped>\n",
       "    .dataframe tbody tr th:only-of-type {\n",
       "        vertical-align: middle;\n",
       "    }\n",
       "\n",
       "    .dataframe tbody tr th {\n",
       "        vertical-align: top;\n",
       "    }\n",
       "\n",
       "    .dataframe thead th {\n",
       "        text-align: right;\n",
       "    }\n",
       "</style>\n",
       "<table border=\"1\" class=\"dataframe\">\n",
       "  <thead>\n",
       "    <tr style=\"text-align: right;\">\n",
       "      <th>CommunicationScore</th>\n",
       "      <th>0</th>\n",
       "      <th>1</th>\n",
       "      <th>2</th>\n",
       "      <th>3</th>\n",
       "      <th>4</th>\n",
       "      <th>5</th>\n",
       "      <th>6</th>\n",
       "      <th>7</th>\n",
       "      <th>8</th>\n",
       "      <th>9</th>\n",
       "      <th>10</th>\n",
       "    </tr>\n",
       "    <tr>\n",
       "      <th>Response</th>\n",
       "      <th></th>\n",
       "      <th></th>\n",
       "      <th></th>\n",
       "      <th></th>\n",
       "      <th></th>\n",
       "      <th></th>\n",
       "      <th></th>\n",
       "      <th></th>\n",
       "      <th></th>\n",
       "      <th></th>\n",
       "      <th></th>\n",
       "    </tr>\n",
       "  </thead>\n",
       "  <tbody>\n",
       "    <tr>\n",
       "      <th>0</th>\n",
       "      <td>196</td>\n",
       "      <td>204</td>\n",
       "      <td>215</td>\n",
       "      <td>216</td>\n",
       "      <td>204</td>\n",
       "      <td>224</td>\n",
       "      <td>185</td>\n",
       "      <td>256</td>\n",
       "      <td>209</td>\n",
       "      <td>197</td>\n",
       "      <td>194</td>\n",
       "    </tr>\n",
       "    <tr>\n",
       "      <th>1</th>\n",
       "      <td>715</td>\n",
       "      <td>680</td>\n",
       "      <td>692</td>\n",
       "      <td>773</td>\n",
       "      <td>673</td>\n",
       "      <td>763</td>\n",
       "      <td>664</td>\n",
       "      <td>653</td>\n",
       "      <td>686</td>\n",
       "      <td>704</td>\n",
       "      <td>697</td>\n",
       "    </tr>\n",
       "  </tbody>\n",
       "</table>\n",
       "</div>"
      ],
      "text/plain": [
       "CommunicationScore   0    1    2    3    4    5    6    7    8    9    10\n",
       "Response                                                                 \n",
       "0                   196  204  215  216  204  224  185  256  209  197  194\n",
       "1                   715  680  692  773  673  763  664  653  686  704  697"
      ]
     },
     "execution_count": 30,
     "metadata": {},
     "output_type": "execute_result"
    }
   ],
   "source": [
    "communication_byresponse = pd.crosstab(df['Response'], df['CommunicationScore'])\n",
    "communication_byresponse"
   ]
  },
  {
   "cell_type": "markdown",
   "metadata": {
    "id": "fBiQYCPK5opW"
   },
   "source": [
    "### 7. Atribut Distance"
   ]
  },
  {
   "cell_type": "code",
   "execution_count": 31,
   "metadata": {
    "colab": {
     "base_uri": "https://localhost:8080/",
     "height": 466
    },
    "executionInfo": {
     "elapsed": 450,
     "status": "ok",
     "timestamp": 1719924038809,
     "user": {
      "displayName": "Fani Senohusodo",
      "userId": "04677994331336327591"
     },
     "user_tz": -420
    },
    "id": "XH7WG9i-5sNZ",
    "outputId": "c07fe77f-cdc4-445d-d172-f30a9d1a44ae"
   },
   "outputs": [
    {
     "data": {
      "text/plain": [
       "<Axes: xlabel='DistanceKM', ylabel='Count'>"
      ]
     },
     "execution_count": 31,
     "metadata": {},
     "output_type": "execute_result"
    },
    {
     "data": {
      "image/png": "[encoded data removed]",
      "text/plain": [
       "<Figure size 640x480 with 1 Axes>"
      ]
     },
     "metadata": {},
     "output_type": "display_data"
    }
   ],
   "source": [
    "sns.histplot(data=df,x='DistanceKM')"
   ]
  },
  {
   "cell_type": "code",
   "execution_count": 32,
   "metadata": {
    "colab": {
     "base_uri": "https://localhost:8080/"
    },
    "executionInfo": {
     "elapsed": 36,
     "status": "ok",
     "timestamp": 1719924038809,
     "user": {
      "displayName": "Fani Senohusodo",
      "userId": "04677994331336327591"
     },
     "user_tz": -420
    },
    "id": "PWbMSCHd5wxN",
    "outputId": "7433e13d-8e33-4654-e15c-f2bbf3923e46"
   },
   "outputs": [
    {
     "data": {
      "text/plain": [
       "count    10000.000000\n",
       "mean        50.730300\n",
       "std         28.848941\n",
       "min          1.000000\n",
       "25%         26.000000\n",
       "50%         51.000000\n",
       "75%         76.000000\n",
       "max        100.000000\n",
       "Name: DistanceKM, dtype: float64"
      ]
     },
     "execution_count": 32,
     "metadata": {},
     "output_type": "execute_result"
    }
   ],
   "source": [
    "df[\"DistanceKM\"].describe()"
   ]
  },
  {
   "cell_type": "code",
   "execution_count": 33,
   "metadata": {
    "colab": {
     "base_uri": "https://localhost:8080/"
    },
    "executionInfo": {
     "elapsed": 31,
     "status": "ok",
     "timestamp": 1719924038810,
     "user": {
      "displayName": "Fani Senohusodo",
      "userId": "04677994331336327591"
     },
     "user_tz": -420
    },
    "id": "gpmZ62fQ503-",
    "outputId": "c2e801d6-225f-4f5a-c132-94d692afb750"
   },
   "outputs": [
    {
     "data": {
      "text/plain": [
       "Response\n",
       "0    50.397826\n",
       "1    50.829610\n",
       "Name: DistanceKM, dtype: float64"
      ]
     },
     "execution_count": 33,
     "metadata": {},
     "output_type": "execute_result"
    }
   ],
   "source": [
    "df[\"DistanceKM\"].groupby(df['Response']).mean()"
   ]
  },
  {
   "cell_type": "code",
   "execution_count": 34,
   "metadata": {
    "colab": {
     "base_uri": "https://localhost:8080/",
     "height": 472
    },
    "executionInfo": {
     "elapsed": 483,
     "status": "ok",
     "timestamp": 1719924039269,
     "user": {
      "displayName": "Fani Senohusodo",
      "userId": "04677994331336327591"
     },
     "user_tz": -420
    },
    "id": "3cdFMZCQ56XZ",
    "outputId": "41170457-b1f8-4a1e-c46b-64fd8f815528"
   },
   "outputs": [
    {
     "data": {
      "image/png": "[encoded data removed]",
      "text/plain": [
       "<Figure size 640x480 with 1 Axes>"
      ]
     },
     "metadata": {},
     "output_type": "display_data"
    }
   ],
   "source": [
    "sns.boxplot(x='DistanceKM', hue='Response', data=df)\n",
    "plt.title('Boxplot of Distance by Response')\n",
    "plt.xlabel('Distance (in km)')\n",
    "plt.ylabel('Response')\n",
    "plt.show()"
   ]
  },
  {
   "cell_type": "code",
   "execution_count": 35,
   "metadata": {
    "colab": {
     "base_uri": "https://localhost:8080/",
     "height": 616
    },
    "executionInfo": {
     "elapsed": 978,
     "status": "ok",
     "timestamp": 1719924040227,
     "user": {
      "displayName": "Fani Senohusodo",
      "userId": "04677994331336327591"
     },
     "user_tz": -420
    },
    "id": "8x4JG3Zu6AqX",
    "outputId": "bbd6ae64-1479-4a5b-86ea-946747036971"
   },
   "outputs": [
    {
     "name": "stdout",
     "output_type": "stream",
     "text": [
      "Varians: 832.2613880488029\n",
      "Skewness: -0.003826140224569293\n",
      "Kurtosis: -1.2194922453064934\n"
     ]
    },
    {
     "data": {
      "image/png": "[encoded data removed]",
      "text/plain": [
       "<Figure size 1000x600 with 1 Axes>"
      ]
     },
     "metadata": {},
     "output_type": "display_data"
    }
   ],
   "source": [
    "variance = df['DistanceKM'].var()\n",
    "skewness = df['DistanceKM'].skew()\n",
    "kurtosis = df['DistanceKM'].kurt()\n",
    "\n",
    "print(\"Varians:\", variance)\n",
    "print(\"Skewness:\", skewness)\n",
    "print(\"Kurtosis:\", kurtosis)\n",
    "\n",
    "# Visualisasi data\n",
    "plt.figure(figsize=(10, 6))\n",
    "sns.histplot(df['DistanceKM'], bins=30, kde=True)\n",
    "plt.title('Histogram Distance')\n",
    "plt.show()"
   ]
  },
  {
   "cell_type": "markdown",
   "metadata": {
    "id": "nbFNmVsf9ZaR"
   },
   "source": [
    "### 8. Atirbut Age Category"
   ]
  },
  {
   "cell_type": "code",
   "execution_count": 36,
   "metadata": {
    "colab": {
     "base_uri": "https://localhost:8080/"
    },
    "executionInfo": {
     "elapsed": 72,
     "status": "ok",
     "timestamp": 1719924040228,
     "user": {
      "displayName": "Fani Senohusodo",
      "userId": "04677994331336327591"
     },
     "user_tz": -420
    },
    "id": "KMfUk0YrVlIX",
    "outputId": "1ec7a133-9be5-461a-cb52-3cab4df8a9ff"
   },
   "outputs": [
    {
     "data": {
      "text/plain": [
       "(18, 35)"
      ]
     },
     "execution_count": 36,
     "metadata": {},
     "output_type": "execute_result"
    }
   ],
   "source": [
    "df[df['AgeCategory']=='Young']['Age'].min(),df[df['AgeCategory']=='Young']['Age'].max()"
   ]
  },
  {
   "cell_type": "code",
   "execution_count": 37,
   "metadata": {
    "colab": {
     "base_uri": "https://localhost:8080/"
    },
    "executionInfo": {
     "elapsed": 67,
     "status": "ok",
     "timestamp": 1719924040228,
     "user": {
      "displayName": "Fani Senohusodo",
      "userId": "04677994331336327591"
     },
     "user_tz": -420
    },
    "id": "YAOmJOsyVpNs",
    "outputId": "49cdcb0e-9a8a-4dc0-d021-4c0629bbd41c"
   },
   "outputs": [
    {
     "data": {
      "text/plain": [
       "(36, 59)"
      ]
     },
     "execution_count": 37,
     "metadata": {},
     "output_type": "execute_result"
    }
   ],
   "source": [
    "df[df['AgeCategory']=='Middle-aged']['Age'].min(),df[df['AgeCategory']=='Middle-aged']['Age'].max()"
   ]
  },
  {
   "cell_type": "code",
   "execution_count": 38,
   "metadata": {
    "colab": {
     "base_uri": "https://localhost:8080/"
    },
    "executionInfo": {
     "elapsed": 64,
     "status": "ok",
     "timestamp": 1719924040228,
     "user": {
      "displayName": "Fani Senohusodo",
      "userId": "04677994331336327591"
     },
     "user_tz": -420
    },
    "id": "lmPIDE9iVuju",
    "outputId": "f12f8320-e23c-4459-c715-b6e9b0b1d1cd"
   },
   "outputs": [
    {
     "data": {
      "text/plain": [
       "(60, 90)"
      ]
     },
     "execution_count": 38,
     "metadata": {},
     "output_type": "execute_result"
    }
   ],
   "source": [
    "df[df['AgeCategory']=='Senior']['Age'].min(),df[df['AgeCategory']=='Senior']['Age'].max()"
   ]
  },
  {
   "cell_type": "code",
   "execution_count": 39,
   "metadata": {
    "colab": {
     "base_uri": "https://localhost:8080/"
    },
    "executionInfo": {
     "elapsed": 55,
     "status": "ok",
     "timestamp": 1719924040228,
     "user": {
      "displayName": "Fani Senohusodo",
      "userId": "04677994331336327591"
     },
     "user_tz": -420
    },
    "id": "j2wtYT83wNnS",
    "outputId": "34766e96-2b7a-47e8-bd94-207c96817ddc"
   },
   "outputs": [
    {
     "data": {
      "text/plain": [
       "AgeCategory\n",
       "Senior         4239\n",
       "Middle-aged    3243\n",
       "Young          2518\n",
       "Name: count, dtype: int64"
      ]
     },
     "execution_count": 39,
     "metadata": {},
     "output_type": "execute_result"
    }
   ],
   "source": [
    "acategory_value_counts = df['AgeCategory'].value_counts()\n",
    "acategory_value_counts"
   ]
  },
  {
   "cell_type": "code",
   "execution_count": 40,
   "metadata": {
    "colab": {
     "base_uri": "https://localhost:8080/"
    },
    "executionInfo": {
     "elapsed": 1072,
     "status": "ok",
     "timestamp": 1719924041248,
     "user": {
      "displayName": "Fani Senohusodo",
      "userId": "04677994331336327591"
     },
     "user_tz": -420
    },
    "id": "OEV6rM5BwOjj",
    "outputId": "387f47a0-d3b4-4b49-bd62-d92c18eff0e0"
   },
   "outputs": [
    {
     "data": {
      "text/plain": [
       "AgeCategory\n",
       "Senior         42.39\n",
       "Middle-aged    32.43\n",
       "Young          25.18\n",
       "Name: count, dtype: float64"
      ]
     },
     "execution_count": 40,
     "metadata": {},
     "output_type": "execute_result"
    }
   ],
   "source": [
    "acategory_persentage = (acategory_value_counts / acategory_value_counts.sum()) * 100\n",
    "acategory_persentage"
   ]
  },
  {
   "cell_type": "code",
   "execution_count": 41,
   "metadata": {
    "colab": {
     "base_uri": "https://localhost:8080/",
     "height": 143
    },
    "executionInfo": {
     "elapsed": 428,
     "status": "ok",
     "timestamp": 1719924041248,
     "user": {
      "displayName": "Fani Senohusodo",
      "userId": "04677994331336327591"
     },
     "user_tz": -420
    },
    "id": "f8ptrBE1vwOz",
    "outputId": "daaff894-a21f-4db6-e3bc-cb82818cd0fa"
   },
   "outputs": [
    {
     "data": {
      "text/html": [
       "<div>\n",
       "<style scoped>\n",
       "    .dataframe tbody tr th:only-of-type {\n",
       "        vertical-align: middle;\n",
       "    }\n",
       "\n",
       "    .dataframe tbody tr th {\n",
       "        vertical-align: top;\n",
       "    }\n",
       "\n",
       "    .dataframe thead th {\n",
       "        text-align: right;\n",
       "    }\n",
       "</style>\n",
       "<table border=\"1\" class=\"dataframe\">\n",
       "  <thead>\n",
       "    <tr style=\"text-align: right;\">\n",
       "      <th>AgeCategory</th>\n",
       "      <th>Middle-aged</th>\n",
       "      <th>Senior</th>\n",
       "      <th>Young</th>\n",
       "    </tr>\n",
       "    <tr>\n",
       "      <th>Response</th>\n",
       "      <th></th>\n",
       "      <th></th>\n",
       "      <th></th>\n",
       "    </tr>\n",
       "  </thead>\n",
       "  <tbody>\n",
       "    <tr>\n",
       "      <th>0</th>\n",
       "      <td>757</td>\n",
       "      <td>970</td>\n",
       "      <td>573</td>\n",
       "    </tr>\n",
       "    <tr>\n",
       "      <th>1</th>\n",
       "      <td>2486</td>\n",
       "      <td>3269</td>\n",
       "      <td>1945</td>\n",
       "    </tr>\n",
       "  </tbody>\n",
       "</table>\n",
       "</div>"
      ],
      "text/plain": [
       "AgeCategory  Middle-aged  Senior  Young\n",
       "Response                               \n",
       "0                    757     970    573\n",
       "1                   2486    3269   1945"
      ]
     },
     "execution_count": 41,
     "metadata": {},
     "output_type": "execute_result"
    }
   ],
   "source": [
    "acategory_byresponse = pd.crosstab(df['Response'], df['AgeCategory'])\n",
    "acategory_byresponse"
   ]
  },
  {
   "cell_type": "markdown",
   "metadata": {
    "id": "FUOqn-l-otYL"
   },
   "source": [
    "## Mengubah Age Category menjadi Angka"
   ]
  },
  {
   "cell_type": "code",
   "execution_count": 42,
   "metadata": {
    "executionInfo": {
     "elapsed": 426,
     "status": "ok",
     "timestamp": 1719924041248,
     "user": {
      "displayName": "Fani Senohusodo",
      "userId": "04677994331336327591"
     },
     "user_tz": -420
    },
    "id": "en0DByP1or8a"
   },
   "outputs": [],
   "source": [
    "# Create a mapping dictionary for AgeCategory\n",
    "age_category_mapping = {\n",
    "    'Young': 0,\n",
    "    'Middle-aged': 1,\n",
    "    'Senior': 2\n",
    "}\n",
    "\n",
    "# Map the AgeCategory to numerical values\n",
    "df['Age_Category'] = df['AgeCategory'].map(age_category_mapping)"
   ]
  },
  {
   "cell_type": "code",
   "execution_count": 43,
   "metadata": {
    "colab": {
     "base_uri": "https://localhost:8080/",
     "height": 206
    },
    "executionInfo": {
     "elapsed": 426,
     "status": "ok",
     "timestamp": 1719924041248,
     "user": {
      "displayName": "Fani Senohusodo",
      "userId": "04677994331336327591"
     },
     "user_tz": -420
    },
    "id": "5R1NAKXAp-vC",
    "outputId": "2df476e6-62f1-43af-d9f5-38bcb9d7d2e5"
   },
   "outputs": [
    {
     "data": {
      "text/html": [
       "<div>\n",
       "<style scoped>\n",
       "    .dataframe tbody tr th:only-of-type {\n",
       "        vertical-align: middle;\n",
       "    }\n",
       "\n",
       "    .dataframe tbody tr th {\n",
       "        vertical-align: top;\n",
       "    }\n",
       "\n",
       "    .dataframe thead th {\n",
       "        text-align: right;\n",
       "    }\n",
       "</style>\n",
       "<table border=\"1\" class=\"dataframe\">\n",
       "  <thead>\n",
       "    <tr style=\"text-align: right;\">\n",
       "      <th></th>\n",
       "      <th>Height</th>\n",
       "      <th>Age</th>\n",
       "      <th>Income</th>\n",
       "      <th>RomanticGestureScore</th>\n",
       "      <th>CompatibilityScore</th>\n",
       "      <th>CommunicationScore</th>\n",
       "      <th>DistanceKM</th>\n",
       "      <th>Response</th>\n",
       "      <th>AgeCategory</th>\n",
       "      <th>Age_Category</th>\n",
       "    </tr>\n",
       "  </thead>\n",
       "  <tbody>\n",
       "    <tr>\n",
       "      <th>0</th>\n",
       "      <td>157</td>\n",
       "      <td>23</td>\n",
       "      <td>9813</td>\n",
       "      <td>10</td>\n",
       "      <td>4</td>\n",
       "      <td>10</td>\n",
       "      <td>81</td>\n",
       "      <td>1</td>\n",
       "      <td>Young</td>\n",
       "      <td>0</td>\n",
       "    </tr>\n",
       "    <tr>\n",
       "      <th>1</th>\n",
       "      <td>141</td>\n",
       "      <td>80</td>\n",
       "      <td>9543</td>\n",
       "      <td>0</td>\n",
       "      <td>9</td>\n",
       "      <td>3</td>\n",
       "      <td>14</td>\n",
       "      <td>1</td>\n",
       "      <td>Senior</td>\n",
       "      <td>2</td>\n",
       "    </tr>\n",
       "    <tr>\n",
       "      <th>2</th>\n",
       "      <td>143</td>\n",
       "      <td>56</td>\n",
       "      <td>43513</td>\n",
       "      <td>4</td>\n",
       "      <td>2</td>\n",
       "      <td>2</td>\n",
       "      <td>55</td>\n",
       "      <td>0</td>\n",
       "      <td>Middle-aged</td>\n",
       "      <td>1</td>\n",
       "    </tr>\n",
       "    <tr>\n",
       "      <th>3</th>\n",
       "      <td>184</td>\n",
       "      <td>18</td>\n",
       "      <td>26317</td>\n",
       "      <td>2</td>\n",
       "      <td>6</td>\n",
       "      <td>9</td>\n",
       "      <td>47</td>\n",
       "      <td>0</td>\n",
       "      <td>Young</td>\n",
       "      <td>0</td>\n",
       "    </tr>\n",
       "    <tr>\n",
       "      <th>4</th>\n",
       "      <td>151</td>\n",
       "      <td>31</td>\n",
       "      <td>6757</td>\n",
       "      <td>7</td>\n",
       "      <td>0</td>\n",
       "      <td>8</td>\n",
       "      <td>81</td>\n",
       "      <td>1</td>\n",
       "      <td>Young</td>\n",
       "      <td>0</td>\n",
       "    </tr>\n",
       "  </tbody>\n",
       "</table>\n",
       "</div>"
      ],
      "text/plain": [
       "   Height  Age  Income  RomanticGestureScore  CompatibilityScore  \\\n",
       "0     157   23    9813                    10                   4   \n",
       "1     141   80    9543                     0                   9   \n",
       "2     143   56   43513                     4                   2   \n",
       "3     184   18   26317                     2                   6   \n",
       "4     151   31    6757                     7                   0   \n",
       "\n",
       "   CommunicationScore  DistanceKM  Response  AgeCategory  Age_Category  \n",
       "0                  10          81         1        Young             0  \n",
       "1                   3          14         1       Senior             2  \n",
       "2                   2          55         0  Middle-aged             1  \n",
       "3                   9          47         0        Young             0  \n",
       "4                   8          81         1        Young             0  "
      ]
     },
     "execution_count": 43,
     "metadata": {},
     "output_type": "execute_result"
    }
   ],
   "source": [
    "df.head()"
   ]
  },
  {
   "cell_type": "markdown",
   "metadata": {
    "id": "cBGHQHosoaas"
   },
   "source": [
    "## Analisa Peluang"
   ]
  },
  {
   "cell_type": "markdown",
   "metadata": {
    "id": "RB7Qn0iS7BJ_"
   },
   "source": [
    "### Peluang diterimanya Lamaran sesuai Romantic Gesture Score"
   ]
  },
  {
   "cell_type": "code",
   "execution_count": 44,
   "metadata": {
    "colab": {
     "base_uri": "https://localhost:8080/",
     "height": 426
    },
    "executionInfo": {
     "elapsed": 424,
     "status": "ok",
     "timestamp": 1719924041248,
     "user": {
      "displayName": "Fani Senohusodo",
      "userId": "04677994331336327591"
     },
     "user_tz": -420
    },
    "id": "49Ptu5VCABv-",
    "outputId": "82a426e8-2a07-4b57-df9e-29341b18e7a0"
   },
   "outputs": [
    {
     "data": {
      "text/html": [
       "<div>\n",
       "<style scoped>\n",
       "    .dataframe tbody tr th:only-of-type {\n",
       "        vertical-align: middle;\n",
       "    }\n",
       "\n",
       "    .dataframe tbody tr th {\n",
       "        vertical-align: top;\n",
       "    }\n",
       "\n",
       "    .dataframe thead th {\n",
       "        text-align: right;\n",
       "    }\n",
       "</style>\n",
       "<table border=\"1\" class=\"dataframe\">\n",
       "  <thead>\n",
       "    <tr style=\"text-align: right;\">\n",
       "      <th></th>\n",
       "      <th>Frequency_Response_1</th>\n",
       "      <th>Frequency_Response_0</th>\n",
       "      <th>Total_Proposals</th>\n",
       "      <th>Probability_Response_1</th>\n",
       "    </tr>\n",
       "    <tr>\n",
       "      <th>RomanticGestureScore</th>\n",
       "      <th></th>\n",
       "      <th></th>\n",
       "      <th></th>\n",
       "      <th></th>\n",
       "    </tr>\n",
       "  </thead>\n",
       "  <tbody>\n",
       "    <tr>\n",
       "      <th>0</th>\n",
       "      <td>525</td>\n",
       "      <td>395</td>\n",
       "      <td>920</td>\n",
       "      <td>0.570652</td>\n",
       "    </tr>\n",
       "    <tr>\n",
       "      <th>1</th>\n",
       "      <td>542</td>\n",
       "      <td>398</td>\n",
       "      <td>940</td>\n",
       "      <td>0.576596</td>\n",
       "    </tr>\n",
       "    <tr>\n",
       "      <th>2</th>\n",
       "      <td>556</td>\n",
       "      <td>292</td>\n",
       "      <td>848</td>\n",
       "      <td>0.655660</td>\n",
       "    </tr>\n",
       "    <tr>\n",
       "      <th>3</th>\n",
       "      <td>622</td>\n",
       "      <td>288</td>\n",
       "      <td>910</td>\n",
       "      <td>0.683516</td>\n",
       "    </tr>\n",
       "    <tr>\n",
       "      <th>4</th>\n",
       "      <td>686</td>\n",
       "      <td>218</td>\n",
       "      <td>904</td>\n",
       "      <td>0.758850</td>\n",
       "    </tr>\n",
       "    <tr>\n",
       "      <th>5</th>\n",
       "      <td>745</td>\n",
       "      <td>201</td>\n",
       "      <td>946</td>\n",
       "      <td>0.787526</td>\n",
       "    </tr>\n",
       "    <tr>\n",
       "      <th>6</th>\n",
       "      <td>765</td>\n",
       "      <td>158</td>\n",
       "      <td>923</td>\n",
       "      <td>0.828819</td>\n",
       "    </tr>\n",
       "    <tr>\n",
       "      <th>7</th>\n",
       "      <td>762</td>\n",
       "      <td>115</td>\n",
       "      <td>877</td>\n",
       "      <td>0.868871</td>\n",
       "    </tr>\n",
       "    <tr>\n",
       "      <th>8</th>\n",
       "      <td>803</td>\n",
       "      <td>114</td>\n",
       "      <td>917</td>\n",
       "      <td>0.875682</td>\n",
       "    </tr>\n",
       "    <tr>\n",
       "      <th>9</th>\n",
       "      <td>801</td>\n",
       "      <td>68</td>\n",
       "      <td>869</td>\n",
       "      <td>0.921749</td>\n",
       "    </tr>\n",
       "    <tr>\n",
       "      <th>10</th>\n",
       "      <td>893</td>\n",
       "      <td>53</td>\n",
       "      <td>946</td>\n",
       "      <td>0.943975</td>\n",
       "    </tr>\n",
       "  </tbody>\n",
       "</table>\n",
       "</div>"
      ],
      "text/plain": [
       "                      Frequency_Response_1  Frequency_Response_0  \\\n",
       "RomanticGestureScore                                               \n",
       "0                                      525                   395   \n",
       "1                                      542                   398   \n",
       "2                                      556                   292   \n",
       "3                                      622                   288   \n",
       "4                                      686                   218   \n",
       "5                                      745                   201   \n",
       "6                                      765                   158   \n",
       "7                                      762                   115   \n",
       "8                                      803                   114   \n",
       "9                                      801                    68   \n",
       "10                                     893                    53   \n",
       "\n",
       "                      Total_Proposals  Probability_Response_1  \n",
       "RomanticGestureScore                                           \n",
       "0                                 920                0.570652  \n",
       "1                                 940                0.576596  \n",
       "2                                 848                0.655660  \n",
       "3                                 910                0.683516  \n",
       "4                                 904                0.758850  \n",
       "5                                 946                0.787526  \n",
       "6                                 923                0.828819  \n",
       "7                                 877                0.868871  \n",
       "8                                 917                0.875682  \n",
       "9                                 869                0.921749  \n",
       "10                                946                0.943975  "
      ]
     },
     "execution_count": 44,
     "metadata": {},
     "output_type": "execute_result"
    }
   ],
   "source": [
    "# Calculate the frequency of Response = 1 and Response = 0 for each RomanticGestureScore\n",
    "response_counts = df.pivot_table(index='RomanticGestureScore', columns='Response', aggfunc='size', fill_value=0)\n",
    "\n",
    "# Calculate the total number of proposals for each RomanticGestureScore\n",
    "total_counts = response_counts.sum(axis=1)\n",
    "\n",
    "# Calculate the probability of Response = 1 for each RomanticGestureScore\n",
    "response_prob = response_counts[1] / total_counts\n",
    "\n",
    "# Combine the counts and probabilities into a DataFrame\n",
    "romantic_gesture_analysis = pd.DataFrame({\n",
    "    'Frequency_Response_1': response_counts[1],\n",
    "    'Frequency_Response_0': response_counts[0],\n",
    "    'Total_Proposals': total_counts,\n",
    "    'Probability_Response_1': response_prob\n",
    "})\n",
    "\n",
    "romantic_gesture_analysis"
   ]
  },
  {
   "cell_type": "markdown",
   "metadata": {
    "id": "IIXVUT2x7MEk"
   },
   "source": [
    "### Peluang diterimanya Lamaran sesuai Compatibility Score"
   ]
  },
  {
   "cell_type": "code",
   "execution_count": 45,
   "metadata": {
    "colab": {
     "base_uri": "https://localhost:8080/",
     "height": 426
    },
    "executionInfo": {
     "elapsed": 423,
     "status": "ok",
     "timestamp": 1719924041249,
     "user": {
      "displayName": "Fani Senohusodo",
      "userId": "04677994331336327591"
     },
     "user_tz": -420
    },
    "id": "LTbFnpuV7SVO",
    "outputId": "26532b3e-c8a0-48f0-b274-db188eace935"
   },
   "outputs": [
    {
     "data": {
      "text/html": [
       "<div>\n",
       "<style scoped>\n",
       "    .dataframe tbody tr th:only-of-type {\n",
       "        vertical-align: middle;\n",
       "    }\n",
       "\n",
       "    .dataframe tbody tr th {\n",
       "        vertical-align: top;\n",
       "    }\n",
       "\n",
       "    .dataframe thead th {\n",
       "        text-align: right;\n",
       "    }\n",
       "</style>\n",
       "<table border=\"1\" class=\"dataframe\">\n",
       "  <thead>\n",
       "    <tr style=\"text-align: right;\">\n",
       "      <th></th>\n",
       "      <th>Frequency_Response_1</th>\n",
       "      <th>Frequency_Response_0</th>\n",
       "      <th>Total_Proposals</th>\n",
       "      <th>Probability_Response_1</th>\n",
       "    </tr>\n",
       "    <tr>\n",
       "      <th>CompatibilityScore</th>\n",
       "      <th></th>\n",
       "      <th></th>\n",
       "      <th></th>\n",
       "      <th></th>\n",
       "    </tr>\n",
       "  </thead>\n",
       "  <tbody>\n",
       "    <tr>\n",
       "      <th>0</th>\n",
       "      <td>502</td>\n",
       "      <td>399</td>\n",
       "      <td>901</td>\n",
       "      <td>0.557159</td>\n",
       "    </tr>\n",
       "    <tr>\n",
       "      <th>1</th>\n",
       "      <td>525</td>\n",
       "      <td>384</td>\n",
       "      <td>909</td>\n",
       "      <td>0.577558</td>\n",
       "    </tr>\n",
       "    <tr>\n",
       "      <th>2</th>\n",
       "      <td>584</td>\n",
       "      <td>315</td>\n",
       "      <td>899</td>\n",
       "      <td>0.649611</td>\n",
       "    </tr>\n",
       "    <tr>\n",
       "      <th>3</th>\n",
       "      <td>632</td>\n",
       "      <td>314</td>\n",
       "      <td>946</td>\n",
       "      <td>0.668076</td>\n",
       "    </tr>\n",
       "    <tr>\n",
       "      <th>4</th>\n",
       "      <td>653</td>\n",
       "      <td>255</td>\n",
       "      <td>908</td>\n",
       "      <td>0.719163</td>\n",
       "    </tr>\n",
       "    <tr>\n",
       "      <th>5</th>\n",
       "      <td>719</td>\n",
       "      <td>195</td>\n",
       "      <td>914</td>\n",
       "      <td>0.786652</td>\n",
       "    </tr>\n",
       "    <tr>\n",
       "      <th>6</th>\n",
       "      <td>738</td>\n",
       "      <td>133</td>\n",
       "      <td>871</td>\n",
       "      <td>0.847302</td>\n",
       "    </tr>\n",
       "    <tr>\n",
       "      <th>7</th>\n",
       "      <td>769</td>\n",
       "      <td>108</td>\n",
       "      <td>877</td>\n",
       "      <td>0.876853</td>\n",
       "    </tr>\n",
       "    <tr>\n",
       "      <th>8</th>\n",
       "      <td>837</td>\n",
       "      <td>97</td>\n",
       "      <td>934</td>\n",
       "      <td>0.896146</td>\n",
       "    </tr>\n",
       "    <tr>\n",
       "      <th>9</th>\n",
       "      <td>866</td>\n",
       "      <td>66</td>\n",
       "      <td>932</td>\n",
       "      <td>0.929185</td>\n",
       "    </tr>\n",
       "    <tr>\n",
       "      <th>10</th>\n",
       "      <td>875</td>\n",
       "      <td>34</td>\n",
       "      <td>909</td>\n",
       "      <td>0.962596</td>\n",
       "    </tr>\n",
       "  </tbody>\n",
       "</table>\n",
       "</div>"
      ],
      "text/plain": [
       "                    Frequency_Response_1  Frequency_Response_0  \\\n",
       "CompatibilityScore                                               \n",
       "0                                    502                   399   \n",
       "1                                    525                   384   \n",
       "2                                    584                   315   \n",
       "3                                    632                   314   \n",
       "4                                    653                   255   \n",
       "5                                    719                   195   \n",
       "6                                    738                   133   \n",
       "7                                    769                   108   \n",
       "8                                    837                    97   \n",
       "9                                    866                    66   \n",
       "10                                   875                    34   \n",
       "\n",
       "                    Total_Proposals  Probability_Response_1  \n",
       "CompatibilityScore                                           \n",
       "0                               901                0.557159  \n",
       "1                               909                0.577558  \n",
       "2                               899                0.649611  \n",
       "3                               946                0.668076  \n",
       "4                               908                0.719163  \n",
       "5                               914                0.786652  \n",
       "6                               871                0.847302  \n",
       "7                               877                0.876853  \n",
       "8                               934                0.896146  \n",
       "9                               932                0.929185  \n",
       "10                              909                0.962596  "
      ]
     },
     "execution_count": 45,
     "metadata": {},
     "output_type": "execute_result"
    }
   ],
   "source": [
    "# Calculate the frequency of Response = 1 and Response = 0 for each CompatibilityScore\n",
    "response_cs_counts = df.pivot_table(index='CompatibilityScore', columns='Response', aggfunc='size', fill_value=0)\n",
    "\n",
    "# Calculate the total number of proposals for each CompatibilityScore\n",
    "total_cs_counts = response_cs_counts.sum(axis=1)\n",
    "\n",
    "# Calculate the probability of Response = 1 for each CompatibilityScore\n",
    "response_cs_prob = response_cs_counts[1] / total_cs_counts\n",
    "\n",
    "# Combine the counts and probabilities into a DataFrame\n",
    "compatibility_analysis = pd.DataFrame({\n",
    "    'Frequency_Response_1': response_cs_counts[1],\n",
    "    'Frequency_Response_0': response_cs_counts[0],\n",
    "    'Total_Proposals': total_cs_counts,\n",
    "    'Probability_Response_1': response_cs_prob\n",
    "})\n",
    "\n",
    "compatibility_analysis"
   ]
  },
  {
   "cell_type": "markdown",
   "metadata": {
    "id": "c1vAMSTMNpmj"
   },
   "source": [
    "### Peluang diterimanya Lamaran sesuai Communication Score"
   ]
  },
  {
   "cell_type": "code",
   "execution_count": 46,
   "metadata": {
    "colab": {
     "base_uri": "https://localhost:8080/",
     "height": 426
    },
    "executionInfo": {
     "elapsed": 423,
     "status": "ok",
     "timestamp": 1719924041250,
     "user": {
      "displayName": "Fani Senohusodo",
      "userId": "04677994331336327591"
     },
     "user_tz": -420
    },
    "id": "H7VEg_4XNvv-",
    "outputId": "1c9e95fd-428c-46d8-e5bd-76e0a67a3214"
   },
   "outputs": [
    {
     "data": {
      "text/html": [
       "<div>\n",
       "<style scoped>\n",
       "    .dataframe tbody tr th:only-of-type {\n",
       "        vertical-align: middle;\n",
       "    }\n",
       "\n",
       "    .dataframe tbody tr th {\n",
       "        vertical-align: top;\n",
       "    }\n",
       "\n",
       "    .dataframe thead th {\n",
       "        text-align: right;\n",
       "    }\n",
       "</style>\n",
       "<table border=\"1\" class=\"dataframe\">\n",
       "  <thead>\n",
       "    <tr style=\"text-align: right;\">\n",
       "      <th></th>\n",
       "      <th>Frequency_Response_1</th>\n",
       "      <th>Frequency_Response_0</th>\n",
       "      <th>Total_Proposals</th>\n",
       "      <th>Probability_Response_1</th>\n",
       "    </tr>\n",
       "    <tr>\n",
       "      <th>CommunicationScore</th>\n",
       "      <th></th>\n",
       "      <th></th>\n",
       "      <th></th>\n",
       "      <th></th>\n",
       "    </tr>\n",
       "  </thead>\n",
       "  <tbody>\n",
       "    <tr>\n",
       "      <th>0</th>\n",
       "      <td>715</td>\n",
       "      <td>196</td>\n",
       "      <td>911</td>\n",
       "      <td>0.784852</td>\n",
       "    </tr>\n",
       "    <tr>\n",
       "      <th>1</th>\n",
       "      <td>680</td>\n",
       "      <td>204</td>\n",
       "      <td>884</td>\n",
       "      <td>0.769231</td>\n",
       "    </tr>\n",
       "    <tr>\n",
       "      <th>2</th>\n",
       "      <td>692</td>\n",
       "      <td>215</td>\n",
       "      <td>907</td>\n",
       "      <td>0.762955</td>\n",
       "    </tr>\n",
       "    <tr>\n",
       "      <th>3</th>\n",
       "      <td>773</td>\n",
       "      <td>216</td>\n",
       "      <td>989</td>\n",
       "      <td>0.781598</td>\n",
       "    </tr>\n",
       "    <tr>\n",
       "      <th>4</th>\n",
       "      <td>673</td>\n",
       "      <td>204</td>\n",
       "      <td>877</td>\n",
       "      <td>0.767389</td>\n",
       "    </tr>\n",
       "    <tr>\n",
       "      <th>5</th>\n",
       "      <td>763</td>\n",
       "      <td>224</td>\n",
       "      <td>987</td>\n",
       "      <td>0.773050</td>\n",
       "    </tr>\n",
       "    <tr>\n",
       "      <th>6</th>\n",
       "      <td>664</td>\n",
       "      <td>185</td>\n",
       "      <td>849</td>\n",
       "      <td>0.782097</td>\n",
       "    </tr>\n",
       "    <tr>\n",
       "      <th>7</th>\n",
       "      <td>653</td>\n",
       "      <td>256</td>\n",
       "      <td>909</td>\n",
       "      <td>0.718372</td>\n",
       "    </tr>\n",
       "    <tr>\n",
       "      <th>8</th>\n",
       "      <td>686</td>\n",
       "      <td>209</td>\n",
       "      <td>895</td>\n",
       "      <td>0.766480</td>\n",
       "    </tr>\n",
       "    <tr>\n",
       "      <th>9</th>\n",
       "      <td>704</td>\n",
       "      <td>197</td>\n",
       "      <td>901</td>\n",
       "      <td>0.781354</td>\n",
       "    </tr>\n",
       "    <tr>\n",
       "      <th>10</th>\n",
       "      <td>697</td>\n",
       "      <td>194</td>\n",
       "      <td>891</td>\n",
       "      <td>0.782267</td>\n",
       "    </tr>\n",
       "  </tbody>\n",
       "</table>\n",
       "</div>"
      ],
      "text/plain": [
       "                    Frequency_Response_1  Frequency_Response_0  \\\n",
       "CommunicationScore                                               \n",
       "0                                    715                   196   \n",
       "1                                    680                   204   \n",
       "2                                    692                   215   \n",
       "3                                    773                   216   \n",
       "4                                    673                   204   \n",
       "5                                    763                   224   \n",
       "6                                    664                   185   \n",
       "7                                    653                   256   \n",
       "8                                    686                   209   \n",
       "9                                    704                   197   \n",
       "10                                   697                   194   \n",
       "\n",
       "                    Total_Proposals  Probability_Response_1  \n",
       "CommunicationScore                                           \n",
       "0                               911                0.784852  \n",
       "1                               884                0.769231  \n",
       "2                               907                0.762955  \n",
       "3                               989                0.781598  \n",
       "4                               877                0.767389  \n",
       "5                               987                0.773050  \n",
       "6                               849                0.782097  \n",
       "7                               909                0.718372  \n",
       "8                               895                0.766480  \n",
       "9                               901                0.781354  \n",
       "10                              891                0.782267  "
      ]
     },
     "execution_count": 46,
     "metadata": {},
     "output_type": "execute_result"
    }
   ],
   "source": [
    "# Calculate the frequency of Response = 1 and Response = 0 for each CommunicationScore\n",
    "response_com_counts = df.pivot_table(index='CommunicationScore', columns='Response', aggfunc='size', fill_value=0)\n",
    "\n",
    "# Calculate the total number of proposals for each CommunicationScore\n",
    "total_com_counts = response_com_counts.sum(axis=1)\n",
    "\n",
    "# Calculate the probability of Response = 1 for each CommunicationScore\n",
    "response_com_prob = response_com_counts[1] / total_com_counts\n",
    "\n",
    "# Combine the counts and probabilities into a DataFrame\n",
    "communication_analysis = pd.DataFrame({\n",
    "    'Frequency_Response_1': response_com_counts[1],\n",
    "    'Frequency_Response_0': response_com_counts[0],\n",
    "    'Total_Proposals': total_com_counts,\n",
    "    'Probability_Response_1': response_com_prob\n",
    "})\n",
    "\n",
    "communication_analysis"
   ]
  },
  {
   "cell_type": "code",
   "execution_count": 47,
   "metadata": {
    "colab": {
     "base_uri": "https://localhost:8080/"
    },
    "executionInfo": {
     "elapsed": 422,
     "status": "ok",
     "timestamp": 1719924041250,
     "user": {
      "displayName": "Fani Senohusodo",
      "userId": "04677994331336327591"
     },
     "user_tz": -420
    },
    "id": "EkxRpDwXPldW",
    "outputId": "f742d6e2-eddc-44ab-e480-5b63af1cf621"
   },
   "outputs": [
    {
     "data": {
      "text/plain": [
       "0.7699675868798945"
      ]
     },
     "execution_count": 47,
     "metadata": {},
     "output_type": "execute_result"
    }
   ],
   "source": [
    "response_com_prob.mean()"
   ]
  },
  {
   "cell_type": "markdown",
   "metadata": {
    "id": "Ba1ghhqlOWJd"
   },
   "source": [
    "### Peluang diterimanya Lamaran sesuai Age Category"
   ]
  },
  {
   "cell_type": "code",
   "execution_count": 48,
   "metadata": {
    "colab": {
     "base_uri": "https://localhost:8080/",
     "height": 175
    },
    "executionInfo": {
     "elapsed": 418,
     "status": "ok",
     "timestamp": 1719924041250,
     "user": {
      "displayName": "Fani Senohusodo",
      "userId": "04677994331336327591"
     },
     "user_tz": -420
    },
    "id": "0OD8Go8cOa2D",
    "outputId": "5a1e57fe-a025-4b82-9572-b22b24bc60ae"
   },
   "outputs": [
    {
     "data": {
      "text/html": [
       "<div>\n",
       "<style scoped>\n",
       "    .dataframe tbody tr th:only-of-type {\n",
       "        vertical-align: middle;\n",
       "    }\n",
       "\n",
       "    .dataframe tbody tr th {\n",
       "        vertical-align: top;\n",
       "    }\n",
       "\n",
       "    .dataframe thead th {\n",
       "        text-align: right;\n",
       "    }\n",
       "</style>\n",
       "<table border=\"1\" class=\"dataframe\">\n",
       "  <thead>\n",
       "    <tr style=\"text-align: right;\">\n",
       "      <th></th>\n",
       "      <th>Frequency_Response_1</th>\n",
       "      <th>Frequency_Response_0</th>\n",
       "      <th>Total_Proposals</th>\n",
       "      <th>Probability_Response_1</th>\n",
       "    </tr>\n",
       "    <tr>\n",
       "      <th>AgeCategory</th>\n",
       "      <th></th>\n",
       "      <th></th>\n",
       "      <th></th>\n",
       "      <th></th>\n",
       "    </tr>\n",
       "  </thead>\n",
       "  <tbody>\n",
       "    <tr>\n",
       "      <th>Middle-aged</th>\n",
       "      <td>2486</td>\n",
       "      <td>757</td>\n",
       "      <td>3243</td>\n",
       "      <td>0.766574</td>\n",
       "    </tr>\n",
       "    <tr>\n",
       "      <th>Senior</th>\n",
       "      <td>3269</td>\n",
       "      <td>970</td>\n",
       "      <td>4239</td>\n",
       "      <td>0.771172</td>\n",
       "    </tr>\n",
       "    <tr>\n",
       "      <th>Young</th>\n",
       "      <td>1945</td>\n",
       "      <td>573</td>\n",
       "      <td>2518</td>\n",
       "      <td>0.772438</td>\n",
       "    </tr>\n",
       "  </tbody>\n",
       "</table>\n",
       "</div>"
      ],
      "text/plain": [
       "             Frequency_Response_1  Frequency_Response_0  Total_Proposals  \\\n",
       "AgeCategory                                                                \n",
       "Middle-aged                  2486                   757             3243   \n",
       "Senior                       3269                   970             4239   \n",
       "Young                        1945                   573             2518   \n",
       "\n",
       "             Probability_Response_1  \n",
       "AgeCategory                          \n",
       "Middle-aged                0.766574  \n",
       "Senior                     0.771172  \n",
       "Young                      0.772438  "
      ]
     },
     "execution_count": 48,
     "metadata": {},
     "output_type": "execute_result"
    }
   ],
   "source": [
    "# Calculate the frequency of Response = 1 and Response = 0 for each AgeCategory\n",
    "response_agec_counts = df.pivot_table(index='AgeCategory', columns='Response', aggfunc='size', fill_value=0)\n",
    "\n",
    "# Calculate the total number of proposals for each AgeCategory\n",
    "total_agec_counts = response_agec_counts.sum(axis=1)\n",
    "\n",
    "# Calculate the probability of Response = 1 for each AgeCategory\n",
    "response_agec_prob = response_agec_counts[1] / total_agec_counts\n",
    "\n",
    "# Combine the counts and probabilities into a DataFrame\n",
    "agec_analysis = pd.DataFrame({\n",
    "    'Frequency_Response_1': response_agec_counts[1],\n",
    "    'Frequency_Response_0': response_agec_counts[0],\n",
    "    'Total_Proposals': total_agec_counts,\n",
    "    'Probability_Response_1': response_agec_prob\n",
    "})\n",
    "\n",
    "agec_analysis"
   ]
  },
  {
   "cell_type": "markdown",
   "metadata": {
    "id": "Q2kJdAMXfCsA"
   },
   "source": [
    "### Peluang diterimanya Lamaran sesuai Height"
   ]
  },
  {
   "cell_type": "code",
   "execution_count": 49,
   "metadata": {
    "colab": {
     "base_uri": "https://localhost:8080/",
     "height": 269
    },
    "executionInfo": {
     "elapsed": 412,
     "status": "ok",
     "timestamp": 1719924041250,
     "user": {
      "displayName": "Fani Senohusodo",
      "userId": "04677994331336327591"
     },
     "user_tz": -420
    },
    "id": "_4J1NXfdesoR",
    "outputId": "e7ea6c16-9a29-4f65-e160-3bd937f64744"
   },
   "outputs": [
    {
     "data": {
      "text/html": [
       "<div>\n",
       "<style scoped>\n",
       "    .dataframe tbody tr th:only-of-type {\n",
       "        vertical-align: middle;\n",
       "    }\n",
       "\n",
       "    .dataframe tbody tr th {\n",
       "        vertical-align: top;\n",
       "    }\n",
       "\n",
       "    .dataframe thead th {\n",
       "        text-align: right;\n",
       "    }\n",
       "</style>\n",
       "<table border=\"1\" class=\"dataframe\">\n",
       "  <thead>\n",
       "    <tr style=\"text-align: right;\">\n",
       "      <th></th>\n",
       "      <th>Frequency_Response_1</th>\n",
       "      <th>Frequency_Response_0</th>\n",
       "      <th>Total_Proposals</th>\n",
       "      <th>Probability_Response_1</th>\n",
       "    </tr>\n",
       "    <tr>\n",
       "      <th>Height_Bin</th>\n",
       "      <th></th>\n",
       "      <th></th>\n",
       "      <th></th>\n",
       "      <th></th>\n",
       "    </tr>\n",
       "  </thead>\n",
       "  <tbody>\n",
       "    <tr>\n",
       "      <th>140-149</th>\n",
       "      <td>1314</td>\n",
       "      <td>378</td>\n",
       "      <td>1692</td>\n",
       "      <td>0.776596</td>\n",
       "    </tr>\n",
       "    <tr>\n",
       "      <th>150-159</th>\n",
       "      <td>1254</td>\n",
       "      <td>378</td>\n",
       "      <td>1632</td>\n",
       "      <td>0.768382</td>\n",
       "    </tr>\n",
       "    <tr>\n",
       "      <th>160-169</th>\n",
       "      <td>1259</td>\n",
       "      <td>369</td>\n",
       "      <td>1628</td>\n",
       "      <td>0.773342</td>\n",
       "    </tr>\n",
       "    <tr>\n",
       "      <th>170-179</th>\n",
       "      <td>1252</td>\n",
       "      <td>387</td>\n",
       "      <td>1639</td>\n",
       "      <td>0.763880</td>\n",
       "    </tr>\n",
       "    <tr>\n",
       "      <th>180-189</th>\n",
       "      <td>1258</td>\n",
       "      <td>381</td>\n",
       "      <td>1639</td>\n",
       "      <td>0.767541</td>\n",
       "    </tr>\n",
       "    <tr>\n",
       "      <th>190-200</th>\n",
       "      <td>1253</td>\n",
       "      <td>361</td>\n",
       "      <td>1614</td>\n",
       "      <td>0.776332</td>\n",
       "    </tr>\n",
       "  </tbody>\n",
       "</table>\n",
       "</div>"
      ],
      "text/plain": [
       "            Frequency_Response_1  Frequency_Response_0  Total_Proposals  \\\n",
       "Height_Bin                                                                \n",
       "140-149                     1314                   378             1692   \n",
       "150-159                     1254                   378             1632   \n",
       "160-169                     1259                   369             1628   \n",
       "170-179                     1252                   387             1639   \n",
       "180-189                     1258                   381             1639   \n",
       "190-200                     1253                   361             1614   \n",
       "\n",
       "            Probability_Response_1  \n",
       "Height_Bin                          \n",
       "140-149                   0.776596  \n",
       "150-159                   0.768382  \n",
       "160-169                   0.773342  \n",
       "170-179                   0.763880  \n",
       "180-189                   0.767541  \n",
       "190-200                   0.776332  "
      ]
     },
     "execution_count": 49,
     "metadata": {},
     "output_type": "execute_result"
    }
   ],
   "source": [
    "# Membuat bins untuk variabel Height\n",
    "bins = [140, 150, 160, 170, 180, 190, 200]\n",
    "labels = ['140-149', '150-159', '160-169', '170-179', '180-189', '190-200']\n",
    "df['Height_Bin'] = pd.cut(df['Height'], bins=bins, labels=labels, right=False)\n",
    "\n",
    "# Menghitung frekuensi dan probabilitas\n",
    "heights_counts = df.pivot_table(index='Height_Bin', columns='Response', aggfunc='size', fill_value=0)\n",
    "total_heights_counts = heights_counts.sum(axis=1)\n",
    "response_heights_prob = heights_counts[1] / total_heights_counts\n",
    "\n",
    "# Combine the counts and probabilities into a DataFrame\n",
    "height_analysis = pd.DataFrame({\n",
    "    'Frequency_Response_1': heights_counts[1],\n",
    "    'Frequency_Response_0': heights_counts[0],\n",
    "    'Total_Proposals': total_heights_counts,\n",
    "    'Probability_Response_1': response_heights_prob\n",
    "})\n",
    "\n",
    "height_analysis"
   ]
  },
  {
   "cell_type": "markdown",
   "metadata": {
    "id": "-ZegsNr7Y1re"
   },
   "source": [
    "### Peluang diterimanya Lamaran sesuai Age"
   ]
  },
  {
   "cell_type": "code",
   "execution_count": 50,
   "metadata": {
    "colab": {
     "base_uri": "https://localhost:8080/",
     "height": 300
    },
    "executionInfo": {
     "elapsed": 408,
     "status": "ok",
     "timestamp": 1719924041250,
     "user": {
      "displayName": "Fani Senohusodo",
      "userId": "04677994331336327591"
     },
     "user_tz": -420
    },
    "id": "ZVQ0QH1nY09H",
    "outputId": "6d4a396b-6bb3-4971-a2d1-a4e40838aec5"
   },
   "outputs": [
    {
     "data": {
      "text/html": [
       "<div>\n",
       "<style scoped>\n",
       "    .dataframe tbody tr th:only-of-type {\n",
       "        vertical-align: middle;\n",
       "    }\n",
       "\n",
       "    .dataframe tbody tr th {\n",
       "        vertical-align: top;\n",
       "    }\n",
       "\n",
       "    .dataframe thead th {\n",
       "        text-align: right;\n",
       "    }\n",
       "</style>\n",
       "<table border=\"1\" class=\"dataframe\">\n",
       "  <thead>\n",
       "    <tr style=\"text-align: right;\">\n",
       "      <th></th>\n",
       "      <th>Frequency_Response_1</th>\n",
       "      <th>Frequency_Response_0</th>\n",
       "      <th>Total_Proposals</th>\n",
       "      <th>Probability_Response_1</th>\n",
       "    </tr>\n",
       "    <tr>\n",
       "      <th>Age_Bin</th>\n",
       "      <th></th>\n",
       "      <th></th>\n",
       "      <th></th>\n",
       "      <th></th>\n",
       "    </tr>\n",
       "  </thead>\n",
       "  <tbody>\n",
       "    <tr>\n",
       "      <th>18-29</th>\n",
       "      <td>1278</td>\n",
       "      <td>370</td>\n",
       "      <td>1648</td>\n",
       "      <td>0.775485</td>\n",
       "    </tr>\n",
       "    <tr>\n",
       "      <th>30-39</th>\n",
       "      <td>1075</td>\n",
       "      <td>328</td>\n",
       "      <td>1403</td>\n",
       "      <td>0.766215</td>\n",
       "    </tr>\n",
       "    <tr>\n",
       "      <th>40-49</th>\n",
       "      <td>1041</td>\n",
       "      <td>318</td>\n",
       "      <td>1359</td>\n",
       "      <td>0.766004</td>\n",
       "    </tr>\n",
       "    <tr>\n",
       "      <th>50-59</th>\n",
       "      <td>1037</td>\n",
       "      <td>314</td>\n",
       "      <td>1351</td>\n",
       "      <td>0.767580</td>\n",
       "    </tr>\n",
       "    <tr>\n",
       "      <th>60-69</th>\n",
       "      <td>1043</td>\n",
       "      <td>324</td>\n",
       "      <td>1367</td>\n",
       "      <td>0.762985</td>\n",
       "    </tr>\n",
       "    <tr>\n",
       "      <th>70-79</th>\n",
       "      <td>1089</td>\n",
       "      <td>293</td>\n",
       "      <td>1382</td>\n",
       "      <td>0.787988</td>\n",
       "    </tr>\n",
       "    <tr>\n",
       "      <th>80-90</th>\n",
       "      <td>1137</td>\n",
       "      <td>353</td>\n",
       "      <td>1490</td>\n",
       "      <td>0.763087</td>\n",
       "    </tr>\n",
       "  </tbody>\n",
       "</table>\n",
       "</div>"
      ],
      "text/plain": [
       "         Frequency_Response_1  Frequency_Response_0  Total_Proposals  \\\n",
       "Age_Bin                                                                \n",
       "18-29                    1278                   370             1648   \n",
       "30-39                    1075                   328             1403   \n",
       "40-49                    1041                   318             1359   \n",
       "50-59                    1037                   314             1351   \n",
       "60-69                    1043                   324             1367   \n",
       "70-79                    1089                   293             1382   \n",
       "80-90                    1137                   353             1490   \n",
       "\n",
       "         Probability_Response_1  \n",
       "Age_Bin                          \n",
       "18-29                  0.775485  \n",
       "30-39                  0.766215  \n",
       "40-49                  0.766004  \n",
       "50-59                  0.767580  \n",
       "60-69                  0.762985  \n",
       "70-79                  0.787988  \n",
       "80-90                  0.763087  "
      ]
     },
     "execution_count": 50,
     "metadata": {},
     "output_type": "execute_result"
    }
   ],
   "source": [
    "#Membuat bins untuk variabel Age\n",
    "age_bins = [18, 30, 40, 50, 60, 70, 80, 91]\n",
    "age_labels = ['18-29', '30-39', '40-49', '50-59', '60-69', '70-79', '80-90']\n",
    "df['Age_Bin'] = pd.cut(df['Age'], bins=age_bins, labels=age_labels, right=False)\n",
    "\n",
    "# Menghitung frekuensi dan probabilitas\n",
    "age_counts = df.pivot_table(index='Age_Bin', columns='Response', aggfunc='size', fill_value=0)\n",
    "total_age_counts = age_counts.sum(axis=1)\n",
    "response_age_prob = age_counts[1] / total_age_counts\n",
    "\n",
    "# Combine the counts and probabilities into a DataFrame\n",
    "age_analysis = pd.DataFrame({\n",
    "    'Frequency_Response_1': age_counts[1],\n",
    "    'Frequency_Response_0': age_counts[0],\n",
    "    'Total_Proposals': total_age_counts,\n",
    "    'Probability_Response_1': response_age_prob\n",
    "})\n",
    "\n",
    "age_analysis"
   ]
  },
  {
   "cell_type": "markdown",
   "metadata": {
    "id": "ucVo5JLlc2YX"
   },
   "source": [
    "### Peluang diterimanya Lamaran sesuai Income"
   ]
  },
  {
   "cell_type": "code",
   "execution_count": 51,
   "metadata": {
    "colab": {
     "base_uri": "https://localhost:8080/",
     "height": 363
    },
    "executionInfo": {
     "elapsed": 415,
     "status": "ok",
     "timestamp": 1719924041259,
     "user": {
      "displayName": "Fani Senohusodo",
      "userId": "04677994331336327591"
     },
     "user_tz": -420
    },
    "id": "SHfwxRXwaAAo",
    "outputId": "54f5173a-3862-4030-e8dc-a7a94933ace9"
   },
   "outputs": [
    {
     "data": {
      "text/html": [
       "<div>\n",
       "<style scoped>\n",
       "    .dataframe tbody tr th:only-of-type {\n",
       "        vertical-align: middle;\n",
       "    }\n",
       "\n",
       "    .dataframe tbody tr th {\n",
       "        vertical-align: top;\n",
       "    }\n",
       "\n",
       "    .dataframe thead th {\n",
       "        text-align: right;\n",
       "    }\n",
       "</style>\n",
       "<table border=\"1\" class=\"dataframe\">\n",
       "  <thead>\n",
       "    <tr style=\"text-align: right;\">\n",
       "      <th></th>\n",
       "      <th>Frequency_Response_1</th>\n",
       "      <th>Frequency_Response_0</th>\n",
       "      <th>Total_Proposals</th>\n",
       "      <th>Probability_Response_1</th>\n",
       "    </tr>\n",
       "    <tr>\n",
       "      <th>Income_Bin</th>\n",
       "      <th></th>\n",
       "      <th></th>\n",
       "      <th></th>\n",
       "      <th></th>\n",
       "    </tr>\n",
       "  </thead>\n",
       "  <tbody>\n",
       "    <tr>\n",
       "      <th>5000-9999</th>\n",
       "      <td>882</td>\n",
       "      <td>276</td>\n",
       "      <td>1158</td>\n",
       "      <td>0.761658</td>\n",
       "    </tr>\n",
       "    <tr>\n",
       "      <th>10000-14999</th>\n",
       "      <td>844</td>\n",
       "      <td>249</td>\n",
       "      <td>1093</td>\n",
       "      <td>0.772187</td>\n",
       "    </tr>\n",
       "    <tr>\n",
       "      <th>15000-19999</th>\n",
       "      <td>906</td>\n",
       "      <td>242</td>\n",
       "      <td>1148</td>\n",
       "      <td>0.789199</td>\n",
       "    </tr>\n",
       "    <tr>\n",
       "      <th>20000-24999</th>\n",
       "      <td>865</td>\n",
       "      <td>259</td>\n",
       "      <td>1124</td>\n",
       "      <td>0.769573</td>\n",
       "    </tr>\n",
       "    <tr>\n",
       "      <th>25000-29999</th>\n",
       "      <td>873</td>\n",
       "      <td>254</td>\n",
       "      <td>1127</td>\n",
       "      <td>0.774623</td>\n",
       "    </tr>\n",
       "    <tr>\n",
       "      <th>30000-34999</th>\n",
       "      <td>855</td>\n",
       "      <td>260</td>\n",
       "      <td>1115</td>\n",
       "      <td>0.766816</td>\n",
       "    </tr>\n",
       "    <tr>\n",
       "      <th>35000-39999</th>\n",
       "      <td>801</td>\n",
       "      <td>239</td>\n",
       "      <td>1040</td>\n",
       "      <td>0.770192</td>\n",
       "    </tr>\n",
       "    <tr>\n",
       "      <th>40000-44999</th>\n",
       "      <td>840</td>\n",
       "      <td>235</td>\n",
       "      <td>1075</td>\n",
       "      <td>0.781395</td>\n",
       "    </tr>\n",
       "    <tr>\n",
       "      <th>45000-50000</th>\n",
       "      <td>833</td>\n",
       "      <td>286</td>\n",
       "      <td>1119</td>\n",
       "      <td>0.744415</td>\n",
       "    </tr>\n",
       "  </tbody>\n",
       "</table>\n",
       "</div>"
      ],
      "text/plain": [
       "             Frequency_Response_1  Frequency_Response_0  Total_Proposals  \\\n",
       "Income_Bin                                                                 \n",
       "5000-9999                     882                   276             1158   \n",
       "10000-14999                   844                   249             1093   \n",
       "15000-19999                   906                   242             1148   \n",
       "20000-24999                   865                   259             1124   \n",
       "25000-29999                   873                   254             1127   \n",
       "30000-34999                   855                   260             1115   \n",
       "35000-39999                   801                   239             1040   \n",
       "40000-44999                   840                   235             1075   \n",
       "45000-50000                   833                   286             1119   \n",
       "\n",
       "             Probability_Response_1  \n",
       "Income_Bin                           \n",
       "5000-9999                  0.761658  \n",
       "10000-14999                0.772187  \n",
       "15000-19999                0.789199  \n",
       "20000-24999                0.769573  \n",
       "25000-29999                0.774623  \n",
       "30000-34999                0.766816  \n",
       "35000-39999                0.770192  \n",
       "40000-44999                0.781395  \n",
       "45000-50000                0.744415  "
      ]
     },
     "execution_count": 51,
     "metadata": {},
     "output_type": "execute_result"
    }
   ],
   "source": [
    "#Membuat bins untuk variabel Income\n",
    "income_bins = [5000, 10000, 15000, 20000, 25000, 30000, 35000, 40000, 45000, 50000]\n",
    "income_labels = ['5000-9999', '10000-14999', '15000-19999', '20000-24999', '25000-29999', '30000-34999', '35000-39999', '40000-44999', '45000-50000']\n",
    "df['Income_Bin'] = pd.cut(df['Income'], bins=income_bins, labels=income_labels, right=False)\n",
    "\n",
    "\n",
    "# Menghitung frekuensi dan probabilitas\n",
    "income_counts = df.pivot_table(index='Income_Bin', columns='Response', aggfunc='size', fill_value=0)\n",
    "total_income_counts = income_counts.sum(axis=1)\n",
    "response_income_prob = income_counts[1] / total_income_counts\n",
    "\n",
    "# Combine the counts and probabilities into a DataFrame\n",
    "income_analysis = pd.DataFrame({\n",
    "    'Frequency_Response_1': income_counts[1],\n",
    "    'Frequency_Response_0': income_counts[0],\n",
    "    'Total_Proposals': total_income_counts,\n",
    "    'Probability_Response_1': response_income_prob\n",
    "})\n",
    "\n",
    "income_analysis"
   ]
  },
  {
   "cell_type": "markdown",
   "metadata": {
    "id": "hJ67TbMXEs36"
   },
   "source": [
    "### Peluang diterimanya Lamaran sesuai Distance"
   ]
  },
  {
   "cell_type": "code",
   "execution_count": 52,
   "metadata": {
    "colab": {
     "base_uri": "https://localhost:8080/",
     "height": 394
    },
    "executionInfo": {
     "elapsed": 413,
     "status": "ok",
     "timestamp": 1719924041260,
     "user": {
      "displayName": "Fani Senohusodo",
      "userId": "04677994331336327591"
     },
     "user_tz": -420
    },
    "id": "adfadYb4DjZ7",
    "outputId": "2d9aa202-19da-4bc4-857e-24e3e263a232"
   },
   "outputs": [
    {
     "data": {
      "text/html": [
       "<div>\n",
       "<style scoped>\n",
       "    .dataframe tbody tr th:only-of-type {\n",
       "        vertical-align: middle;\n",
       "    }\n",
       "\n",
       "    .dataframe tbody tr th {\n",
       "        vertical-align: top;\n",
       "    }\n",
       "\n",
       "    .dataframe thead th {\n",
       "        text-align: right;\n",
       "    }\n",
       "</style>\n",
       "<table border=\"1\" class=\"dataframe\">\n",
       "  <thead>\n",
       "    <tr style=\"text-align: right;\">\n",
       "      <th></th>\n",
       "      <th>Frequency_Response_1</th>\n",
       "      <th>Frequency_Response_0</th>\n",
       "      <th>Total_Proposals</th>\n",
       "      <th>Probability_Response_1</th>\n",
       "    </tr>\n",
       "    <tr>\n",
       "      <th>Distance_Bin</th>\n",
       "      <th></th>\n",
       "      <th></th>\n",
       "      <th></th>\n",
       "      <th></th>\n",
       "    </tr>\n",
       "  </thead>\n",
       "  <tbody>\n",
       "    <tr>\n",
       "      <th>1-9</th>\n",
       "      <td>654</td>\n",
       "      <td>219</td>\n",
       "      <td>873</td>\n",
       "      <td>0.749141</td>\n",
       "    </tr>\n",
       "    <tr>\n",
       "      <th>10-19</th>\n",
       "      <td>789</td>\n",
       "      <td>216</td>\n",
       "      <td>1005</td>\n",
       "      <td>0.785075</td>\n",
       "    </tr>\n",
       "    <tr>\n",
       "      <th>20-29</th>\n",
       "      <td>770</td>\n",
       "      <td>237</td>\n",
       "      <td>1007</td>\n",
       "      <td>0.764647</td>\n",
       "    </tr>\n",
       "    <tr>\n",
       "      <th>30-39</th>\n",
       "      <td>758</td>\n",
       "      <td>233</td>\n",
       "      <td>991</td>\n",
       "      <td>0.764884</td>\n",
       "    </tr>\n",
       "    <tr>\n",
       "      <th>40-49</th>\n",
       "      <td>781</td>\n",
       "      <td>227</td>\n",
       "      <td>1008</td>\n",
       "      <td>0.774802</td>\n",
       "    </tr>\n",
       "    <tr>\n",
       "      <th>50-59</th>\n",
       "      <td>733</td>\n",
       "      <td>248</td>\n",
       "      <td>981</td>\n",
       "      <td>0.747197</td>\n",
       "    </tr>\n",
       "    <tr>\n",
       "      <th>60-69</th>\n",
       "      <td>777</td>\n",
       "      <td>177</td>\n",
       "      <td>954</td>\n",
       "      <td>0.814465</td>\n",
       "    </tr>\n",
       "    <tr>\n",
       "      <th>70-79</th>\n",
       "      <td>786</td>\n",
       "      <td>246</td>\n",
       "      <td>1032</td>\n",
       "      <td>0.761628</td>\n",
       "    </tr>\n",
       "    <tr>\n",
       "      <th>80-89</th>\n",
       "      <td>804</td>\n",
       "      <td>254</td>\n",
       "      <td>1058</td>\n",
       "      <td>0.759924</td>\n",
       "    </tr>\n",
       "    <tr>\n",
       "      <th>90-100</th>\n",
       "      <td>775</td>\n",
       "      <td>223</td>\n",
       "      <td>998</td>\n",
       "      <td>0.776553</td>\n",
       "    </tr>\n",
       "  </tbody>\n",
       "</table>\n",
       "</div>"
      ],
      "text/plain": [
       "              Frequency_Response_1  Frequency_Response_0  Total_Proposals  \\\n",
       "Distance_Bin                                                                \n",
       "1-9                            654                   219              873   \n",
       "10-19                          789                   216             1005   \n",
       "20-29                          770                   237             1007   \n",
       "30-39                          758                   233              991   \n",
       "40-49                          781                   227             1008   \n",
       "50-59                          733                   248              981   \n",
       "60-69                          777                   177              954   \n",
       "70-79                          786                   246             1032   \n",
       "80-89                          804                   254             1058   \n",
       "90-100                         775                   223              998   \n",
       "\n",
       "              Probability_Response_1  \n",
       "Distance_Bin                          \n",
       "1-9                         0.749141  \n",
       "10-19                       0.785075  \n",
       "20-29                       0.764647  \n",
       "30-39                       0.764884  \n",
       "40-49                       0.774802  \n",
       "50-59                       0.747197  \n",
       "60-69                       0.814465  \n",
       "70-79                       0.761628  \n",
       "80-89                       0.759924  \n",
       "90-100                      0.776553  "
      ]
     },
     "execution_count": 52,
     "metadata": {},
     "output_type": "execute_result"
    }
   ],
   "source": [
    "#Membuat bins untuk variabel Distance\n",
    "distance_bins = [1, 10, 20, 30, 40, 50, 60, 70, 80, 90, 100]\n",
    "distance_labels = ['1-9', '10-19', '20-29', '30-39', '40-49', '50-59', '60-69', '70-79', '80-89', '90-100']\n",
    "df['Distance_Bin'] = pd.cut(df['DistanceKM'], bins=distance_bins, labels=distance_labels, right=False)\n",
    "\n",
    "\n",
    "# Menghitung frekuensi dan probabilitas\n",
    "distance_counts = df.pivot_table(index='Distance_Bin', columns='Response', aggfunc='size', fill_value=0)\n",
    "total_distance_counts = distance_counts.sum(axis=1)\n",
    "response_distance_prob = distance_counts[1] / total_distance_counts\n",
    "\n",
    "# Combine the counts and probabilities into a DataFrame\n",
    "distance_analysis = pd.DataFrame({\n",
    "    'Frequency_Response_1': distance_counts[1],\n",
    "    'Frequency_Response_0': distance_counts[0],\n",
    "    'Total_Proposals': total_distance_counts,\n",
    "    'Probability_Response_1': response_distance_prob\n",
    "})\n",
    "\n",
    "distance_analysis"
   ]
  },
  {
   "cell_type": "markdown",
   "metadata": {
    "id": "981dXsfzPXP_"
   },
   "source": [
    "## Analisa Korelasi"
   ]
  },
  {
   "cell_type": "code",
   "execution_count": 53,
   "metadata": {
    "colab": {
     "base_uri": "https://localhost:8080/",
     "height": 261
    },
    "executionInfo": {
     "elapsed": 409,
     "status": "ok",
     "timestamp": 1719924041260,
     "user": {
      "displayName": "Fani Senohusodo",
      "userId": "04677994331336327591"
     },
     "user_tz": -420
    },
    "id": "4DxnbqnqRNbQ",
    "outputId": "3fe679d1-cd4b-409d-fce0-1ec3b91ff123"
   },
   "outputs": [
    {
     "data": {
      "text/html": [
       "<div>\n",
       "<style scoped>\n",
       "    .dataframe tbody tr th:only-of-type {\n",
       "        vertical-align: middle;\n",
       "    }\n",
       "\n",
       "    .dataframe tbody tr th {\n",
       "        vertical-align: top;\n",
       "    }\n",
       "\n",
       "    .dataframe thead th {\n",
       "        text-align: right;\n",
       "    }\n",
       "</style>\n",
       "<table border=\"1\" class=\"dataframe\">\n",
       "  <thead>\n",
       "    <tr style=\"text-align: right;\">\n",
       "      <th></th>\n",
       "      <th>Height</th>\n",
       "      <th>Age</th>\n",
       "      <th>Income</th>\n",
       "      <th>RomanticGestureScore</th>\n",
       "      <th>CompatibilityScore</th>\n",
       "      <th>CommunicationScore</th>\n",
       "      <th>DistanceKM</th>\n",
       "      <th>Response</th>\n",
       "      <th>AgeCategory</th>\n",
       "      <th>Age_Category</th>\n",
       "      <th>Height_Bin</th>\n",
       "      <th>Age_Bin</th>\n",
       "      <th>Income_Bin</th>\n",
       "      <th>Distance_Bin</th>\n",
       "    </tr>\n",
       "  </thead>\n",
       "  <tbody>\n",
       "    <tr>\n",
       "      <th>0</th>\n",
       "      <td>157</td>\n",
       "      <td>23</td>\n",
       "      <td>9813</td>\n",
       "      <td>10</td>\n",
       "      <td>4</td>\n",
       "      <td>10</td>\n",
       "      <td>81</td>\n",
       "      <td>1</td>\n",
       "      <td>Young</td>\n",
       "      <td>0</td>\n",
       "      <td>150-159</td>\n",
       "      <td>18-29</td>\n",
       "      <td>5000-9999</td>\n",
       "      <td>80-89</td>\n",
       "    </tr>\n",
       "    <tr>\n",
       "      <th>1</th>\n",
       "      <td>141</td>\n",
       "      <td>80</td>\n",
       "      <td>9543</td>\n",
       "      <td>0</td>\n",
       "      <td>9</td>\n",
       "      <td>3</td>\n",
       "      <td>14</td>\n",
       "      <td>1</td>\n",
       "      <td>Senior</td>\n",
       "      <td>2</td>\n",
       "      <td>140-149</td>\n",
       "      <td>80-90</td>\n",
       "      <td>5000-9999</td>\n",
       "      <td>10-19</td>\n",
       "    </tr>\n",
       "    <tr>\n",
       "      <th>2</th>\n",
       "      <td>143</td>\n",
       "      <td>56</td>\n",
       "      <td>43513</td>\n",
       "      <td>4</td>\n",
       "      <td>2</td>\n",
       "      <td>2</td>\n",
       "      <td>55</td>\n",
       "      <td>0</td>\n",
       "      <td>Middle-aged</td>\n",
       "      <td>1</td>\n",
       "      <td>140-149</td>\n",
       "      <td>50-59</td>\n",
       "      <td>40000-44999</td>\n",
       "      <td>50-59</td>\n",
       "    </tr>\n",
       "    <tr>\n",
       "      <th>3</th>\n",
       "      <td>184</td>\n",
       "      <td>18</td>\n",
       "      <td>26317</td>\n",
       "      <td>2</td>\n",
       "      <td>6</td>\n",
       "      <td>9</td>\n",
       "      <td>47</td>\n",
       "      <td>0</td>\n",
       "      <td>Young</td>\n",
       "      <td>0</td>\n",
       "      <td>180-189</td>\n",
       "      <td>18-29</td>\n",
       "      <td>25000-29999</td>\n",
       "      <td>40-49</td>\n",
       "    </tr>\n",
       "    <tr>\n",
       "      <th>4</th>\n",
       "      <td>151</td>\n",
       "      <td>31</td>\n",
       "      <td>6757</td>\n",
       "      <td>7</td>\n",
       "      <td>0</td>\n",
       "      <td>8</td>\n",
       "      <td>81</td>\n",
       "      <td>1</td>\n",
       "      <td>Young</td>\n",
       "      <td>0</td>\n",
       "      <td>150-159</td>\n",
       "      <td>30-39</td>\n",
       "      <td>5000-9999</td>\n",
       "      <td>80-89</td>\n",
       "    </tr>\n",
       "  </tbody>\n",
       "</table>\n",
       "</div>"
      ],
      "text/plain": [
       "   Height  Age  Income  RomanticGestureScore  CompatibilityScore  \\\n",
       "0     157   23    9813                    10                   4   \n",
       "1     141   80    9543                     0                   9   \n",
       "2     143   56   43513                     4                   2   \n",
       "3     184   18   26317                     2                   6   \n",
       "4     151   31    6757                     7                   0   \n",
       "\n",
       "   CommunicationScore  DistanceKM  Response  AgeCategory  Age_Category  \\\n",
       "0                  10          81         1        Young             0   \n",
       "1                   3          14         1       Senior             2   \n",
       "2                   2          55         0  Middle-aged             1   \n",
       "3                   9          47         0        Young             0   \n",
       "4                   8          81         1        Young             0   \n",
       "\n",
       "  Height_Bin Age_Bin   Income_Bin Distance_Bin  \n",
       "0    150-159   18-29    5000-9999        80-89  \n",
       "1    140-149   80-90    5000-9999        10-19  \n",
       "2    140-149   50-59  40000-44999        50-59  \n",
       "3    180-189   18-29  25000-29999        40-49  \n",
       "4    150-159   30-39    5000-9999        80-89  "
      ]
     },
     "execution_count": 53,
     "metadata": {},
     "output_type": "execute_result"
    }
   ],
   "source": [
    "df.head()"
   ]
  },
  {
   "cell_type": "code",
   "execution_count": 54,
   "metadata": {
    "colab": {
     "base_uri": "https://localhost:8080/",
     "height": 332
    },
    "executionInfo": {
     "elapsed": 407,
     "status": "ok",
     "timestamp": 1719924041260,
     "user": {
      "displayName": "Fani Senohusodo",
      "userId": "04677994331336327591"
     },
     "user_tz": -420
    },
    "id": "jMaG9hlwJ_8a",
    "outputId": "714eb672-7a5f-4489-d23e-5c94da6305d1"
   },
   "outputs": [
    {
     "data": {
      "text/html": [
       "<div>\n",
       "<style scoped>\n",
       "    .dataframe tbody tr th:only-of-type {\n",
       "        vertical-align: middle;\n",
       "    }\n",
       "\n",
       "    .dataframe tbody tr th {\n",
       "        vertical-align: top;\n",
       "    }\n",
       "\n",
       "    .dataframe thead th {\n",
       "        text-align: right;\n",
       "    }\n",
       "</style>\n",
       "<table border=\"1\" class=\"dataframe\">\n",
       "  <thead>\n",
       "    <tr style=\"text-align: right;\">\n",
       "      <th></th>\n",
       "      <th>Height</th>\n",
       "      <th>Age</th>\n",
       "      <th>Income</th>\n",
       "      <th>RomanticGestureScore</th>\n",
       "      <th>CompatibilityScore</th>\n",
       "      <th>CommunicationScore</th>\n",
       "      <th>DistanceKM</th>\n",
       "      <th>Response</th>\n",
       "      <th>Age_Category</th>\n",
       "    </tr>\n",
       "  </thead>\n",
       "  <tbody>\n",
       "    <tr>\n",
       "      <th>Height</th>\n",
       "      <td>1.000000</td>\n",
       "      <td>0.009917</td>\n",
       "      <td>0.003001</td>\n",
       "      <td>0.005800</td>\n",
       "      <td>0.012100</td>\n",
       "      <td>0.006970</td>\n",
       "      <td>0.000960</td>\n",
       "      <td>-0.005598</td>\n",
       "      <td>0.010083</td>\n",
       "    </tr>\n",
       "    <tr>\n",
       "      <th>Age</th>\n",
       "      <td>0.009917</td>\n",
       "      <td>1.000000</td>\n",
       "      <td>0.004050</td>\n",
       "      <td>-0.001418</td>\n",
       "      <td>-0.011587</td>\n",
       "      <td>0.014054</td>\n",
       "      <td>-0.003857</td>\n",
       "      <td>0.000119</td>\n",
       "      <td>0.932112</td>\n",
       "    </tr>\n",
       "    <tr>\n",
       "      <th>Income</th>\n",
       "      <td>0.003001</td>\n",
       "      <td>0.004050</td>\n",
       "      <td>1.000000</td>\n",
       "      <td>0.003800</td>\n",
       "      <td>-0.010137</td>\n",
       "      <td>-0.013688</td>\n",
       "      <td>-0.013158</td>\n",
       "      <td>-0.007465</td>\n",
       "      <td>0.002334</td>\n",
       "    </tr>\n",
       "    <tr>\n",
       "      <th>RomanticGestureScore</th>\n",
       "      <td>0.005800</td>\n",
       "      <td>-0.001418</td>\n",
       "      <td>0.003800</td>\n",
       "      <td>1.000000</td>\n",
       "      <td>-0.007623</td>\n",
       "      <td>0.002396</td>\n",
       "      <td>0.007680</td>\n",
       "      <td>0.297748</td>\n",
       "      <td>-0.004437</td>\n",
       "    </tr>\n",
       "    <tr>\n",
       "      <th>CompatibilityScore</th>\n",
       "      <td>0.012100</td>\n",
       "      <td>-0.011587</td>\n",
       "      <td>-0.010137</td>\n",
       "      <td>-0.007623</td>\n",
       "      <td>1.000000</td>\n",
       "      <td>-0.009292</td>\n",
       "      <td>0.006535</td>\n",
       "      <td>0.322620</td>\n",
       "      <td>-0.015309</td>\n",
       "    </tr>\n",
       "    <tr>\n",
       "      <th>CommunicationScore</th>\n",
       "      <td>0.006970</td>\n",
       "      <td>0.014054</td>\n",
       "      <td>-0.013688</td>\n",
       "      <td>0.002396</td>\n",
       "      <td>-0.009292</td>\n",
       "      <td>1.000000</td>\n",
       "      <td>0.012216</td>\n",
       "      <td>-0.004821</td>\n",
       "      <td>0.020114</td>\n",
       "    </tr>\n",
       "    <tr>\n",
       "      <th>DistanceKM</th>\n",
       "      <td>0.000960</td>\n",
       "      <td>-0.003857</td>\n",
       "      <td>-0.013158</td>\n",
       "      <td>0.007680</td>\n",
       "      <td>0.006535</td>\n",
       "      <td>0.012216</td>\n",
       "      <td>1.000000</td>\n",
       "      <td>0.006299</td>\n",
       "      <td>-0.001332</td>\n",
       "    </tr>\n",
       "    <tr>\n",
       "      <th>Response</th>\n",
       "      <td>-0.005598</td>\n",
       "      <td>0.000119</td>\n",
       "      <td>-0.007465</td>\n",
       "      <td>0.297748</td>\n",
       "      <td>0.322620</td>\n",
       "      <td>-0.004821</td>\n",
       "      <td>0.006299</td>\n",
       "      <td>1.000000</td>\n",
       "      <td>-0.000346</td>\n",
       "    </tr>\n",
       "    <tr>\n",
       "      <th>Age_Category</th>\n",
       "      <td>0.010083</td>\n",
       "      <td>0.932112</td>\n",
       "      <td>0.002334</td>\n",
       "      <td>-0.004437</td>\n",
       "      <td>-0.015309</td>\n",
       "      <td>0.020114</td>\n",
       "      <td>-0.001332</td>\n",
       "      <td>-0.000346</td>\n",
       "      <td>1.000000</td>\n",
       "    </tr>\n",
       "  </tbody>\n",
       "</table>\n",
       "</div>"
      ],
      "text/plain": [
       "                        Height       Age    Income  RomanticGestureScore  \\\n",
       "Height                1.000000  0.009917  0.003001              0.005800   \n",
       "Age                   0.009917  1.000000  0.004050             -0.001418   \n",
       "Income                0.003001  0.004050  1.000000              0.003800   \n",
       "RomanticGestureScore  0.005800 -0.001418  0.003800              1.000000   \n",
       "CompatibilityScore    0.012100 -0.011587 -0.010137             -0.007623   \n",
       "CommunicationScore    0.006970  0.014054 -0.013688              0.002396   \n",
       "DistanceKM            0.000960 -0.003857 -0.013158              0.007680   \n",
       "Response             -0.005598  0.000119 -0.007465              0.297748   \n",
       "Age_Category          0.010083  0.932112  0.002334             -0.004437   \n",
       "\n",
       "                      CompatibilityScore  CommunicationScore  DistanceKM  \\\n",
       "Height                          0.012100            0.006970    0.000960   \n",
       "Age                            -0.011587            0.014054   -0.003857   \n",
       "Income                         -0.010137           -0.013688   -0.013158   \n",
       "RomanticGestureScore           -0.007623            0.002396    0.007680   \n",
       "CompatibilityScore              1.000000           -0.009292    0.006535   \n",
       "CommunicationScore             -0.009292            1.000000    0.012216   \n",
       "DistanceKM                      0.006535            0.012216    1.000000   \n",
       "Response                        0.322620           -0.004821    0.006299   \n",
       "Age_Category                   -0.015309            0.020114   -0.001332   \n",
       "\n",
       "                      Response  Age_Category  \n",
       "Height               -0.005598      0.010083  \n",
       "Age                   0.000119      0.932112  \n",
       "Income               -0.007465      0.002334  \n",
       "RomanticGestureScore  0.297748     -0.004437  \n",
       "CompatibilityScore    0.322620     -0.015309  \n",
       "CommunicationScore   -0.004821      0.020114  \n",
       "DistanceKM            0.006299     -0.001332  \n",
       "Response              1.000000     -0.000346  \n",
       "Age_Category         -0.000346      1.000000  "
      ]
     },
     "execution_count": 54,
     "metadata": {},
     "output_type": "execute_result"
    }
   ],
   "source": [
    "cor_col = ['Height','Age','Income','RomanticGestureScore','CompatibilityScore','CommunicationScore','DistanceKM','Response','Age_Category']\n",
    "df[cor_col].corr()"
   ]
  },
  {
   "cell_type": "markdown",
   "metadata": {
    "id": "nLwuHxBhp4-N"
   },
   "source": [
    "## Uji Hipotesis"
   ]
  },
  {
   "cell_type": "markdown",
   "metadata": {
    "id": "2Sfj2JrjoyFi"
   },
   "source": [
    "H0: Rata-rata pendapatan individu yang lamaran pernikahannya ditolak ≥ rata-rata pendapatan individu yang lamaran pernikahannya\n",
    "\n",
    "H1: Rata-rata pendapatan individu yang lamaran pernikahannya ditolak < rata-rata pendapatan individu yang lamaran pernikahannya\n"
   ]
  },
  {
   "cell_type": "code",
   "execution_count": 55,
   "metadata": {
    "colab": {
     "base_uri": "https://localhost:8080/"
    },
    "executionInfo": {
     "elapsed": 406,
     "status": "ok",
     "timestamp": 1719924041260,
     "user": {
      "displayName": "Fani Senohusodo",
      "userId": "04677994331336327591"
     },
     "user_tz": -420
    },
    "id": "-1H6a_icoxMu",
    "outputId": "fb06f577-bda4-4b04-af33-33ea55fe6013"
   },
   "outputs": [
    {
     "name": "stdout",
     "output_type": "stream",
     "text": [
      "Mean Income (Accepted): 27200.512987012986\n",
      "Mean Income (Rejected): 27431.698260869565\n",
      "Standard Deviation Income (Accepted): 12978.671681218806\n",
      "Standard Deviation (Rejected): 13215.307534920896\n"
     ]
    }
   ],
   "source": [
    "# Memisahkan data berdasarkan Response\n",
    "accepted = df[df['Response'] == 1]['Income']\n",
    "rejected = df[df['Response'] == 0]['Income']\n",
    "\n",
    "# Menghitung statistik deskriptif\n",
    "mean_accepted = accepted.mean()\n",
    "mean_rejected = rejected.mean()\n",
    "std_accepted = accepted.std()\n",
    "std_rejected = rejected.std()\n",
    "\n",
    "print(f\"Mean Income (Accepted): {mean_accepted}\")\n",
    "print(f\"Mean Income (Rejected): {mean_rejected}\")\n",
    "print(f\"Standard Deviation Income (Accepted): {std_accepted}\")\n",
    "print(f\"Standard Deviation (Rejected): {std_rejected}\")"
   ]
  },
  {
   "cell_type": "code",
   "execution_count": 56,
   "metadata": {
    "colab": {
     "base_uri": "https://localhost:8080/"
    },
    "executionInfo": {
     "elapsed": 595,
     "status": "ok",
     "timestamp": 1719924041452,
     "user": {
      "displayName": "Fani Senohusodo",
      "userId": "04677994331336327591"
     },
     "user_tz": -420
    },
    "id": "MyLiS32CQGYS",
    "outputId": "4e5ba1a3-7a72-4878-9af2-726e858be41c"
   },
   "outputs": [
    {
     "name": "stdout",
     "output_type": "stream",
     "text": [
      "T-statistic: 0.7464651548232197\n",
      "P-value: 0.7722979875307971\n"
     ]
    }
   ],
   "source": [
    "#Import Library Statistik\n",
    "from scipy.stats import ttest_ind\n",
    "\n",
    "# Melakukan uji t dua sampel\n",
    "t_stat, p_value = ttest_ind(rejected, accepted, alternative='less')\n",
    "\n",
    "print(f\"T-statistic: {t_stat}\")\n",
    "print(f\"P-value: {p_value}\")"
   ]
  },
  {
   "cell_type": "code",
   "execution_count": 57,
   "metadata": {
    "colab": {
     "base_uri": "https://localhost:8080/"
    },
    "executionInfo": {
     "elapsed": 647,
     "status": "ok",
     "timestamp": 1719924332427,
     "user": {
      "displayName": "Fani Senohusodo",
      "userId": "04677994331336327591"
     },
     "user_tz": -420
    },
    "id": "FChk5xYXelwU",
    "outputId": "c19f0c17-7203-4dfa-b6de-e6cb29ab2ed1"
   },
   "outputs": [
    {
     "name": "stdout",
     "output_type": "stream",
     "text": [
      "Nilai kritis t: -1.6450060485564055\n"
     ]
    }
   ],
   "source": [
    "from scipy.stats import t\n",
    "\n",
    "# Tentukan tingkat signifikansi\n",
    "alpha = 0.05\n",
    "\n",
    "# Hitung derajat kebebasan\n",
    "n1 = len(rejected)\n",
    "n2 = len(accepted)\n",
    "df = n1 + n2 - 2\n",
    "\n",
    "# Hitung nilai kritis t untuk uji satu sisi (lower-tailed test)\n",
    "t_critical = t.ppf(alpha, df)\n",
    "\n",
    "print(f\"Nilai kritis t: {t_critical}\")"
   ]
  },
  {
   "cell_type": "markdown",
   "metadata": {
    "id": "QFFQXgRxp4ky"
   },
   "source": [
    "Aturan Keputusan:\n",
    "\n",
    "Jika p-value < α (0.05), H0 ditolak\n",
    "\n",
    "Jika p-value ≥ α (0.05), gagal tolak H0"
   ]
  },
  {
   "cell_type": "code",
   "execution_count": 58,
   "metadata": {
    "colab": {
     "base_uri": "https://localhost:8080/"
    },
    "executionInfo": {
     "elapsed": 537,
     "status": "ok",
     "timestamp": 1719924991468,
     "user": {
      "displayName": "Fani Senohusodo",
      "userId": "04677994331336327591"
     },
     "user_tz": -420
    },
    "id": "YpS27yu8pmG8",
    "outputId": "e9fa8594-0d57-4f05-947e-201b8c1169ea"
   },
   "outputs": [
    {
     "name": "stdout",
     "output_type": "stream",
     "text": [
      "Rata-rata pendapatan individu yang lamaran pernikahannya ditolak ≥ rata-rata pendapatan individu yang lamaran pernikahannya (Gagal Tolak H0)\n"
     ]
    }
   ],
   "source": [
    "# Pengambilan Keputusan\n",
    "if p_value < alpha:\n",
    "    print('Rata-rata pendapatan individu yang lamaran pernikahannya ditolak < rata-rata pendapatan individu yang lamaran pernikahannya (H0 ditolak)')\n",
    "else:\n",
    "    print('Rata-rata pendapatan individu yang lamaran pernikahannya ditolak ≥ rata-rata pendapatan individu yang lamaran pernikahannya (Gagal Tolak H0)')\n"
   ]
  },
  {
   "cell_type": "markdown",
   "metadata": {
    "id": "oo4EVp4Ef4lC"
   },
   "source": [
    "Aturan Keputusan:\n",
    "\n",
    "Jika t_stat < t_critical, H0 ditolak\n",
    "\n",
    "Jika t_stat ≥ t_critical, gagal tolak H0"
   ]
  },
  {
   "cell_type": "code",
   "execution_count": 59,
   "metadata": {
    "colab": {
     "base_uri": "https://localhost:8080/"
    },
    "executionInfo": {
     "elapsed": 401,
     "status": "ok",
     "timestamp": 1719924773133,
     "user": {
      "displayName": "Fani Senohusodo",
      "userId": "04677994331336327591"
     },
     "user_tz": -420
    },
    "id": "FXbtbTV1gK1B",
    "outputId": "8bb5ce83-5d02-4ebb-933d-8195007e0ad9"
   },
   "outputs": [
    {
     "name": "stdout",
     "output_type": "stream",
     "text": [
      "Rata-rata pendapatan individu yang lamaran pernikahannya ditolak ≥ rata-rata pendapatan individu yang lamaran pernikahannya (Gagal Tolak H0)\n"
     ]
    }
   ],
   "source": [
    "# Pengambilan Keputusan\n",
    "if t_stat < t_critical:\n",
    "    print('Rata-rata pendapatan individu yang lamaran pernikahannya ditolak < rata-rata pendapatan individu yang lamaran pernikahannya (H0 ditolak)')\n",
    "else:\n",
    "    print('Rata-rata pendapatan individu yang lamaran pernikahannya ditolak ≥ rata-rata pendapatan individu yang lamaran pernikahannya (Gagal Tolak H0)')"
   ]
  },
  {
   "cell_type": "code",
   "execution_count": 60,
   "metadata": {
    "colab": {
     "base_uri": "https://localhost:8080/",
     "height": 472
    },
    "executionInfo": {
     "elapsed": 949,
     "status": "ok",
     "timestamp": 1719925689126,
     "user": {
      "displayName": "Fani Senohusodo",
      "userId": "04677994331336327591"
     },
     "user_tz": -420
    },
    "id": "EYKy3J_GgUm_",
    "outputId": "3c65436a-b882-4bbb-89df-0a005b0ca2a4"
   },
   "outputs": [
    {
     "data": {
      "image/png": "[encoded data removed]",
      "text/plain": [
       "<Figure size 640x480 with 1 Axes>"
      ]
     },
     "metadata": {},
     "output_type": "display_data"
    }
   ],
   "source": [
    "import scipy.stats as stats\n",
    "\n",
    "# Plot T-distribution\n",
    "x = np.linspace(-4, 4, 1000)\n",
    "y = stats.t.pdf(x, df)\n",
    "\n",
    "plt.plot(x, y)\n",
    "plt.fill_between(x, y, where=(x <= t_critical), color='red', alpha=0.3, label='Area penolakan H0')\n",
    "plt.axvline(t_critical, color='r', linestyle='--', label='T_critical saat alpha: 0.05')\n",
    "plt.axvline(0, color='k', linestyle='--')\n",
    "plt.axvline(t_stat, color='g', linestyle='--', label='T statistik')\n",
    "\n",
    "plt.legend(loc='upper right')\n",
    "plt.xlabel('t score')\n",
    "plt.ylabel('PDF')\n",
    "plt.title('Distribusi t dan Area Penolakan H0')\n",
    "plt.show()"
   ]
  }
 ],
 "metadata": {
  "colab": {
   "authorship_tag": "ABX9TyNNsbWpntuAkVjI9ZUjt2+H",
   "provenance": []
  },
  "kernelspec": {
   "display_name": "Python 3 (ipykernel)",
   "language": "python",
   "name": "python3"
  },
  "language_info": {
   "codemirror_mode": {
    "name": "ipython",
    "version": 3
   },
   "file_extension": ".py",
   "mimetype": "text/x-python",
   "name": "python",
   "nbconvert_exporter": "python",
   "pygments_lexer": "ipython3",
   "version": "3.11.5"
  }
 },
 "nbformat": 4,
 "nbformat_minor": 1
}
